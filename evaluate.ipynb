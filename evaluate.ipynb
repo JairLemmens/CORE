{
 "cells": [
  {
   "cell_type": "code",
   "execution_count": 1,
   "metadata": {},
   "outputs": [],
   "source": [
    "import os\n",
    "import torch\n",
    "import numpy as np\n",
    "import torch.nn as nn\n",
    "from nn_modules import Encoder,Decoder\n",
    "from torch.utils.data import DataLoader, TensorDataset\n",
    "from matplotlib import image\n",
    "import matplotlib.pyplot as plt"
   ]
  },
  {
   "cell_type": "code",
   "execution_count": 2,
   "metadata": {},
   "outputs": [],
   "source": [
    "name = 'AutoEncoder_06_10_6'\n",
    "depths=[3, 3, 3, 9, 3, 3, 3]\n",
    "dims=[3, 6, 12, 24, 48,96,192]\n",
    "dConv_kernel_size=7\n",
    "\n",
    "##AUTOENCODER DEFINITION\n",
    "class AutoEncoder(nn.Module):\n",
    "    def __init__(self,depths,dims, dConv_kernel_size=7):\n",
    "        super().__init__()\n",
    "        self.encoder = Encoder(depths=depths,dims = dims, dConv_kernel_size = dConv_kernel_size)\n",
    "        self.decoder = Decoder(depths=depths,dims = dims, dConv_kernel_size = dConv_kernel_size)\n",
    "\n",
    "    def forward(self,x):\n",
    "        encoding = self.encoder(x)\n",
    "        decoding = self.decoder(encoding)\n",
    "        return(decoding)\n"
   ]
  },
  {
   "cell_type": "code",
   "execution_count": 1,
   "metadata": {},
   "outputs": [
    {
     "ename": "NameError",
     "evalue": "name 'os' is not defined",
     "output_type": "error",
     "traceback": [
      "\u001b[1;31m---------------------------------------------------------------------------\u001b[0m",
      "\u001b[1;31mNameError\u001b[0m                                 Traceback (most recent call last)",
      "\u001b[1;32mc:\\Users\\jairl\\Documents\\GitHub\\CORE\\evaluate.ipynb Cell 3\u001b[0m line \u001b[0;36m<cell line: 2>\u001b[1;34m()\u001b[0m\n\u001b[0;32m      <a href='vscode-notebook-cell:/c%3A/Users/jairl/Documents/GitHub/CORE/evaluate.ipynb#W2sZmlsZQ%3D%3D?line=0'>1</a>\u001b[0m imgs \u001b[39m=\u001b[39m []\n\u001b[1;32m----> <a href='vscode-notebook-cell:/c%3A/Users/jairl/Documents/GitHub/CORE/evaluate.ipynb#W2sZmlsZQ%3D%3D?line=1'>2</a>\u001b[0m \u001b[39mfor\u001b[39;00m filename \u001b[39min\u001b[39;00m os\u001b[39m.\u001b[39mlistdir(\u001b[39m'\u001b[39m\u001b[39m./AE_Testing\u001b[39m\u001b[39m'\u001b[39m):\n\u001b[0;32m      <a href='vscode-notebook-cell:/c%3A/Users/jairl/Documents/GitHub/CORE/evaluate.ipynb#W2sZmlsZQ%3D%3D?line=2'>3</a>\u001b[0m     array \u001b[39m=\u001b[39m image\u001b[39m.\u001b[39mimread(\u001b[39mf\u001b[39m\u001b[39m'\u001b[39m\u001b[39m./AE_Testing/\u001b[39m\u001b[39m{\u001b[39;00mfilename\u001b[39m}\u001b[39;00m\u001b[39m'\u001b[39m)\n\u001b[0;32m      <a href='vscode-notebook-cell:/c%3A/Users/jairl/Documents/GitHub/CORE/evaluate.ipynb#W2sZmlsZQ%3D%3D?line=3'>4</a>\u001b[0m     array \u001b[39m=\u001b[39m np\u001b[39m.\u001b[39mmoveaxis(array,\u001b[39m-\u001b[39m\u001b[39m1\u001b[39m,\u001b[39m0\u001b[39m)\n",
      "\u001b[1;31mNameError\u001b[0m: name 'os' is not defined"
     ]
    }
   ],
   "source": [
    "imgs = []\n",
    "for filename in os.listdir('./AE_Testing'):\n",
    "    array = image.imread(f'./AE_Testing/{filename}')\n",
    "    array = np.moveaxis(array,-1,0)\n",
    "    \n",
    "    array = np.divide(array, 255,dtype='float32')\n",
    "    imgs.append(array)\n",
    "imgs = torch.tensor(imgs)"
   ]
  },
  {
   "cell_type": "code",
   "execution_count": null,
   "metadata": {},
   "outputs": [
    {
     "data": {
      "text/plain": [
       "<All keys matched successfully>"
      ]
     },
     "execution_count": 4,
     "metadata": {},
     "output_type": "execute_result"
    }
   ],
   "source": [
    "model = AutoEncoder(depths,dims,dConv_kernel_size)\n",
    "ckpt = r'C:\\Users\\Admin\\Documents\\studentassistent-privé\\Jair\\CORE\\models\\AutoEncoder_10_10\\26ckpt.pt'\n",
    "model.load_state_dict(torch.load(ckpt))"
   ]
  },
  {
   "cell_type": "code",
   "execution_count": null,
   "metadata": {},
   "outputs": [],
   "source": [
    "n = np.random.randint(0,len(imgs))\n",
    "result = model(imgs[n:n+2])"
   ]
  },
  {
   "cell_type": "code",
   "execution_count": null,
   "metadata": {},
   "outputs": [
    {
     "data": {
      "text/plain": [
       "<matplotlib.image.AxesImage at 0x225125d2190>"
      ]
     },
     "execution_count": 61,
     "metadata": {},
     "output_type": "execute_result"
    },
    {
     "data": {
      "image/png": "[encoded data removed]",
      "text/plain": [
       "<Figure size 640x480 with 1 Axes>"
      ]
     },
     "metadata": {},
     "output_type": "display_data"
    }
   ],
   "source": [
    "sample = np.swapaxes(imgs[n],0,-1)\n",
    "plt.imshow(sample)"
   ]
  },
  {
   "cell_type": "code",
   "execution_count": null,
   "metadata": {},
   "outputs": [
    {
     "name": "stderr",
     "output_type": "stream",
     "text": [
      "Clipping input data to the valid range for imshow with RGB data ([0..1] for floats or [0..255] for integers).\n"
     ]
    },
    {
     "data": {
      "text/plain": [
       "<matplotlib.image.AxesImage at 0x225127cd670>"
      ]
     },
     "execution_count": 62,
     "metadata": {},
     "output_type": "execute_result"
    },
    {
     "data": {
      "image/png": "[encoded data removed]",
      "text/plain": [
       "<Figure size 640x480 with 1 Axes>"
      ]
     },
     "metadata": {},
     "output_type": "display_data"
    }
   ],
   "source": [
    "img = np.swapaxes(result[0].detach().numpy(),0,-1)\n",
    "plt.imshow(img)"
   ]
  }
 ],
 "metadata": {
  "kernelspec": {
   "display_name": "Python 3",
   "language": "python",
   "name": "python3"
  },
  "language_info": {
   "codemirror_mode": {
    "name": "ipython",
    "version": 3
   },
   "file_extension": ".py",
   "mimetype": "text/x-python",
   "name": "python",
   "nbconvert_exporter": "python",
   "pygments_lexer": "ipython3",
   "version": "3.10.4"
  },
  "orig_nbformat": 4
 },
 "nbformat": 4,
 "nbformat_minor": 2
}
