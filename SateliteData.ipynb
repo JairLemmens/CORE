{
 "cells": [
  {
   "cell_type": "code",
   "execution_count": 1,
   "metadata": {},
   "outputs": [],
   "source": [
    "import json\n",
    "import pandas as pd\n",
    "import numpy as np\n",
    "from matplotlib import image\n",
    "from matplotlib import pyplot as plt\n",
    "from shapely.wkt import loads\n",
    "import cv2 as cv\n",
    "import shapely\n",
    "import os\n",
    "import copy"
   ]
  },
  {
   "cell_type": "code",
   "execution_count": 2,
   "metadata": {},
   "outputs": [],
   "source": [
    "# img_dir = 'D:/Architecture Jair/CORE/train/mexico/Images'\n",
    "# label_dir = 'D:/Architecture Jair/CORE/train/mexico/Labels'\n",
    "# buildings_dir = f'./Data/Buildings'\n",
    "# no_buildings_dir = f'./Data/No_Buildings'\n",
    "# split_tile_dataset(img_dir,label_dir,buildings_dir,no_buildings_dir)"
   ]
  },
  {
   "cell_type": "code",
   "execution_count": 35,
   "metadata": {},
   "outputs": [],
   "source": [
    "img_dir = r\"C:\\Users\\jairl\\Documents\\GitHub\\CORE\\Data\\AE_debug\\images\"\n",
    "label_dir = r'C:\\Users\\jairl\\Documents\\GitHub\\CORE\\Data\\Json'\n",
    "crop_size = 256\n",
    "n_samples = 10"
   ]
  },
  {
   "cell_type": "code",
   "execution_count": 44,
   "metadata": {},
   "outputs": [
    {
     "data": {
      "image/png": "[encoded data removed]",
      "text/plain": [
       "<Figure size 432x288 with 1 Axes>"
      ]
     },
     "metadata": {
      "needs_background": "light"
     },
     "output_type": "display_data"
    }
   ],
   "source": [
    "colours_dict = {'no-damage':[0,1,0],\n",
    "           'minor-damage':[0,1,0],\n",
    "           'major-damage':[1,0,0],\n",
    "           'destroyed':[1,0,0]\n",
    "           }\n",
    "\n",
    "for _filename in os.listdir(img_dir):\n",
    "    _filename = os.path.splitext(_filename)[0]\n",
    "    if \"post\" in _filename:\n",
    "        _label_file = open(f'{label_dir}/{_filename}.json')\n",
    "        _label_data =json.load(_label_file)\n",
    "        _img = image.imread(f'{img_dir}/{_filename}.png')\n",
    "        _polygons = []\n",
    "        out = np.zeros_like(_img)\n",
    "        out[:,:,-1]=1\n",
    "        for _obj in _label_data['features']['xy']:\n",
    "            _polygon = loads(_obj['wkt'])\n",
    "            _polygons.append(_polygon)\n",
    "            _polygon = np.array(list(_polygon.exterior.coords),dtype=np.int32)\n",
    "            try:\n",
    "                colour = colours_dict[_obj['properties']['subtype']]\n",
    "            except KeyError:\n",
    "                colour = [0,0,0]\n",
    "            out = cv.fillPoly(out,[_polygon],colour)\n",
    "\n",
    "        for n in range(n_samples):\n",
    "            x = np.random.randint(0,_img.shape[0]-crop_size) + np.array([0,crop_size])\n",
    "            y = np.random.randint(0,_img.shape[1]-crop_size) + np.array([0,crop_size])\n",
    "            sample = _img[x[0]:x[1],y[0]:y[1]] \n",
    "            mask = out[x[0]:x[1],y[0]:y[1]]\n",
    "            plt.imshow(mask)\n",
    "            # if np.sum(mask[:,:,0]) > 0:\n",
    "            #     image.imsave(f\"C:/Users/Admin/Documents/studentassistent-privé/Jair/CORE/AE_Training/mask/{_filename}_{n}.jpeg\", mask)\n",
    "            #     image.imsave(f\"C:/Users/Admin/Documents/studentassistent-privé/Jair/CORE/AE_Training/sample/{_filename}_{n}.jpeg\", sample)\n",
    "            # else:\n",
    "            #     if np.random.randint(0,100) < 1: \n",
    "            #         image.imsave(f\"C:/Users/Admin/Documents/studentassistent-privé/Jair/CORE/AE_Training/mask/{_filename}_{n}.jpeg\", mask)\n",
    "            #         image.imsave(f\"C:/Users/Admin/Documents/studentassistent-privé/Jair/CORE/AE_Training/sample/{_filename}_{n}.jpeg\", sample)\n",
    "            # fig, axs = plt.subplots(2)\n",
    "            # fig.set_figheight(15)\n",
    "            # fig.set_figwidth(15)\n",
    "            # axs[0].imshow(sample)\n",
    "            # axs[1].imshow(mask)"
   ]
  },
  {
   "cell_type": "code",
   "execution_count": 45,
   "metadata": {},
   "outputs": [
    {
     "ename": "FileNotFoundError",
     "evalue": "[Errno 2] No such file or directory: './Data/Images/mexico-earthquake_00000000_post_disaster.png'",
     "output_type": "error",
     "traceback": [
      "\u001b[1;31m---------------------------------------------------------------------------\u001b[0m",
      "\u001b[1;31mFileNotFoundError\u001b[0m                         Traceback (most recent call last)",
      "\u001b[1;32mc:\\Users\\jairl\\Documents\\GitHub\\CORE\\SateliteData.ipynb Cell 5\u001b[0m line \u001b[0;36m<cell line: 1>\u001b[1;34m()\u001b[0m\n\u001b[1;32m----> <a href='vscode-notebook-cell:/c%3A/Users/jairl/Documents/GitHub/CORE/SateliteData.ipynb#X12sZmlsZQ%3D%3D?line=0'>1</a>\u001b[0m img \u001b[39m=\u001b[39m image\u001b[39m.\u001b[39;49mimread(\u001b[39m'\u001b[39;49m\u001b[39m./Data/Images/mexico-earthquake_00000000_post_disaster.png\u001b[39;49m\u001b[39m'\u001b[39;49m)\n\u001b[0;32m      <a href='vscode-notebook-cell:/c%3A/Users/jairl/Documents/GitHub/CORE/SateliteData.ipynb#X12sZmlsZQ%3D%3D?line=1'>2</a>\u001b[0m label_file \u001b[39m=\u001b[39m \u001b[39mopen\u001b[39m(\u001b[39m'\u001b[39m\u001b[39m./Data/Json/mexico-earthquake_00000000_post_disaster.json\u001b[39m\u001b[39m'\u001b[39m)\n\u001b[0;32m      <a href='vscode-notebook-cell:/c%3A/Users/jairl/Documents/GitHub/CORE/SateliteData.ipynb#X12sZmlsZQ%3D%3D?line=2'>3</a>\u001b[0m label_data \u001b[39m=\u001b[39mjson\u001b[39m.\u001b[39mload(label_file)\n",
      "File \u001b[1;32mc:\\Users\\jairl\\AppData\\Local\\Programs\\Python\\Python310\\lib\\site-packages\\matplotlib\\image.py:1560\u001b[0m, in \u001b[0;36mimread\u001b[1;34m(fname, format)\u001b[0m\n\u001b[0;32m   1558\u001b[0m                 response \u001b[39m=\u001b[39m io\u001b[39m.\u001b[39mBytesIO(response\u001b[39m.\u001b[39mread())\n\u001b[0;32m   1559\u001b[0m             \u001b[39mreturn\u001b[39;00m imread(response, \u001b[39mformat\u001b[39m\u001b[39m=\u001b[39mext)\n\u001b[1;32m-> 1560\u001b[0m \u001b[39mwith\u001b[39;00m img_open(fname) \u001b[39mas\u001b[39;00m image:\n\u001b[0;32m   1561\u001b[0m     \u001b[39mreturn\u001b[39;00m (_pil_png_to_float_array(image)\n\u001b[0;32m   1562\u001b[0m             \u001b[39mif\u001b[39;00m \u001b[39misinstance\u001b[39m(image, PIL\u001b[39m.\u001b[39mPngImagePlugin\u001b[39m.\u001b[39mPngImageFile) \u001b[39melse\u001b[39;00m\n\u001b[0;32m   1563\u001b[0m             pil_to_array(image))\n",
      "File \u001b[1;32mc:\\Users\\jairl\\AppData\\Local\\Programs\\Python\\Python310\\lib\\site-packages\\PIL\\ImageFile.py:100\u001b[0m, in \u001b[0;36mImageFile.__init__\u001b[1;34m(self, fp, filename)\u001b[0m\n\u001b[0;32m     96\u001b[0m \u001b[39mself\u001b[39m\u001b[39m.\u001b[39mdecodermaxblock \u001b[39m=\u001b[39m MAXBLOCK\n\u001b[0;32m     98\u001b[0m \u001b[39mif\u001b[39;00m isPath(fp):\n\u001b[0;32m     99\u001b[0m     \u001b[39m# filename\u001b[39;00m\n\u001b[1;32m--> 100\u001b[0m     \u001b[39mself\u001b[39m\u001b[39m.\u001b[39mfp \u001b[39m=\u001b[39m \u001b[39mopen\u001b[39;49m(fp, \u001b[39m\"\u001b[39;49m\u001b[39mrb\u001b[39;49m\u001b[39m\"\u001b[39;49m)\n\u001b[0;32m    101\u001b[0m     \u001b[39mself\u001b[39m\u001b[39m.\u001b[39mfilename \u001b[39m=\u001b[39m fp\n\u001b[0;32m    102\u001b[0m     \u001b[39mself\u001b[39m\u001b[39m.\u001b[39m_exclusive_fp \u001b[39m=\u001b[39m \u001b[39mTrue\u001b[39;00m\n",
      "\u001b[1;31mFileNotFoundError\u001b[0m: [Errno 2] No such file or directory: './Data/Images/mexico-earthquake_00000000_post_disaster.png'"
     ]
    }
   ],
   "source": [
    "img = image.imread('./Data/Images/mexico-earthquake_00000000_post_disaster.png')\n",
    "label_file = open('./Data/Json/mexico-earthquake_00000000_post_disaster.json')\n",
    "label_data =json.load(label_file)\n",
    "colours_dict = {'no-damage':[0,0,1],\n",
    "           'minor-damage':[0,0,1],\n",
    "           'major-damage':[1,0,1],\n",
    "           'destroyed':[1,0,1]\n",
    "           }\n",
    "polygons = []\n",
    "damage_state = []\n",
    "\n",
    "colours = []\n",
    "out = copy.deepcopy(img)\n",
    "for _obj in label_data['features']['xy']:\n",
    "    _polygon = loads(_obj['wkt'])\n",
    "    polygons.append(_polygon)\n",
    "    _polygon = np.array(list(_polygon.exterior.coords),dtype=np.int32)\n",
    "    colour = colours_dict[_obj['properties']['subtype']]\n",
    "    out = cv.polylines(out,[_polygon],True,colour,5)\n",
    "plt.imshow(out)"
   ]
  }
 ],
 "metadata": {
  "kernelspec": {
   "display_name": "Python 3",
   "language": "python",
   "name": "python3"
  },
  "language_info": {
   "codemirror_mode": {
    "name": "ipython",
    "version": 3
   },
   "file_extension": ".py",
   "mimetype": "text/x-python",
   "name": "python",
   "nbconvert_exporter": "python",
   "pygments_lexer": "ipython3",
   "version": "3.10.4"
  },
  "orig_nbformat": 4
 },
 "nbformat": 4,
 "nbformat_minor": 2
}
