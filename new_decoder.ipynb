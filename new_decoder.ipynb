{
 "cells": [
  {
   "cell_type": "code",
   "execution_count": 66,
   "metadata": {},
   "outputs": [],
   "source": [
    "import torch\n",
    "import torch.nn as nn\n",
    "import torch.nn.functional as F"
   ]
  },
  {
   "cell_type": "code",
   "execution_count": 67,
   "metadata": {},
   "outputs": [],
   "source": [
    "class Conv_block(nn.Module):\n",
    "    def __init__(self,dim,dConv_kernel_size=7):\n",
    "        super().__init__()\n",
    "        self.depth_conv = nn.Conv2d(dim,dim,kernel_size=dConv_kernel_size,padding=int((dConv_kernel_size-1)/2),groups=dim)\n",
    "        self.norm = nn.BatchNorm2d(dim)\n",
    "        self.conv_1 = nn.Conv2d(dim,dim*4,kernel_size=1)\n",
    "        self.act = nn.GELU()\n",
    "        self.conv_2 = nn.Conv2d(dim*4,dim,kernel_size=1)\n",
    "\n",
    "    def forward(self,x):\n",
    "        input = x\n",
    "        x = self.depth_conv(x)\n",
    "        x = self.norm(x)\n",
    "        x = self.conv_1(x)\n",
    "        x = self.act(x)\n",
    "        x = self.conv_2(x)\n",
    "        return(x+input)"
   ]
  },
  {
   "cell_type": "code",
   "execution_count": 68,
   "metadata": {},
   "outputs": [],
   "source": [
    "class Encoder(nn.Module):\n",
    "    def __init__(self,in_chans= 3, depths=[3, 3, 9, 3,3,1],dims=[96, 192, 384, 768,768,1536],dConv_kernel_size=7):\n",
    "        super().__init__()\n",
    "        self.layers = nn.ModuleList()\n",
    "      \n",
    "        for layer_n,depth in enumerate(depths):\n",
    "            for sublayer_n in range(depth):\n",
    "                self.layers.append(Conv_block(dims[layer_n],dConv_kernel_size))\n",
    "            if layer_n < len(depths)-1:\n",
    "                self.layers.append(nn.Conv2d(dims[layer_n],dims[layer_n+1],kernel_size= 2, stride = 2))\n",
    "\n",
    "    def forward(self,x):\n",
    "        for layer in self.layers:\n",
    "            x = layer(x)\n",
    "            print(x.shape)\n",
    "        return(x)\n",
    "    \n",
    "\n",
    "class Decoder(nn.Module):\n",
    "    def __init__(self,in_chans=1 ,out_chans=3 ,depths=[3, 3, 9, 3,3,1],dims=[96, 192, 384, 768,768,1536],dConv_kernel_size=7):\n",
    "        super().__init__()\n",
    "        self.depths = list(reversed(depths))\n",
    "        self.dims = list(reversed(dims))\n",
    "        self.layers = nn.ModuleList()\n",
    "        for layer_n,depth in enumerate(self.depths):\n",
    "\n",
    "            for _ in range(depth):\n",
    "                self.layers.append(Conv_block(self.dims[layer_n],dConv_kernel_size))\n",
    "            if layer_n < len(depths)-1:     \n",
    "                self.layers.append(nn.ConvTranspose2d(self.dims[layer_n],self.dims[layer_n+1],kernel_size=2,stride=2))\n",
    "\n",
    "    def forward(self,x):\n",
    "        for layer in self.layers:\n",
    "            x = layer(x)\n",
    "        return(x)"
   ]
  },
  {
   "cell_type": "code",
   "execution_count": 69,
   "metadata": {},
   "outputs": [],
   "source": [
    "depths=[3, 3, 3, 9, 3, 3, 3]\n",
    "dims=[3, 6, 12, 24, 48,96,192]\n",
    "dConv_kernel_size = 3\n",
    "enc = Encoder(depths=depths,dims = dims, dConv_kernel_size = dConv_kernel_size)\n",
    "dec = Decoder(depths=depths,dims = dims, dConv_kernel_size = dConv_kernel_size)"
   ]
  },
  {
   "cell_type": "code",
   "execution_count": 70,
   "metadata": {},
   "outputs": [
    {
     "name": "stdout",
     "output_type": "stream",
     "text": [
      "torch.Size([7, 3, 64, 64])\n",
      "torch.Size([7, 3, 64, 64])\n",
      "torch.Size([7, 3, 64, 64])\n",
      "torch.Size([7, 6, 32, 32])\n",
      "torch.Size([7, 6, 32, 32])\n",
      "torch.Size([7, 6, 32, 32])\n",
      "torch.Size([7, 6, 32, 32])\n",
      "torch.Size([7, 12, 16, 16])\n",
      "torch.Size([7, 12, 16, 16])\n",
      "torch.Size([7, 12, 16, 16])\n",
      "torch.Size([7, 12, 16, 16])\n",
      "torch.Size([7, 24, 8, 8])\n",
      "torch.Size([7, 24, 8, 8])\n",
      "torch.Size([7, 24, 8, 8])\n",
      "torch.Size([7, 24, 8, 8])\n",
      "torch.Size([7, 24, 8, 8])\n",
      "torch.Size([7, 24, 8, 8])\n",
      "torch.Size([7, 24, 8, 8])\n",
      "torch.Size([7, 24, 8, 8])\n",
      "torch.Size([7, 24, 8, 8])\n",
      "torch.Size([7, 24, 8, 8])\n",
      "torch.Size([7, 48, 4, 4])\n",
      "torch.Size([7, 48, 4, 4])\n",
      "torch.Size([7, 48, 4, 4])\n",
      "torch.Size([7, 48, 4, 4])\n",
      "torch.Size([7, 96, 2, 2])\n",
      "torch.Size([7, 96, 2, 2])\n",
      "torch.Size([7, 96, 2, 2])\n",
      "torch.Size([7, 96, 2, 2])\n",
      "torch.Size([7, 192, 1, 1])\n",
      "torch.Size([7, 192, 1, 1])\n",
      "torch.Size([7, 192, 1, 1])\n",
      "torch.Size([7, 192, 1, 1])\n"
     ]
    }
   ],
   "source": [
    "seed = torch.rand([7,3,64,64])\n",
    "\n",
    "x = enc(seed)"
   ]
  }
 ],
 "metadata": {
  "kernelspec": {
   "display_name": "Python 3",
   "language": "python",
   "name": "python3"
  },
  "language_info": {
   "codemirror_mode": {
    "name": "ipython",
    "version": 3
   },
   "file_extension": ".py",
   "mimetype": "text/x-python",
   "name": "python",
   "nbconvert_exporter": "python",
   "pygments_lexer": "ipython3",
   "version": "3.9.10"
  },
  "orig_nbformat": 4
 },
 "nbformat": 4,
 "nbformat_minor": 2
}
