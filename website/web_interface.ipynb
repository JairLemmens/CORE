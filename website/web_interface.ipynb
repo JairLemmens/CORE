{
 "cells": [
  {
   "cell_type": "code",
   "execution_count": 1,
   "metadata": {},
   "outputs": [],
   "source": [
    "import os\n",
    "import gradio as gr\n",
    "import plotly.graph_objects as go\n",
    "import plotly.express as px\n",
    "import numpy as np\n",
    "import geopandas as gp\n",
    "import utm\n",
    "import json\n",
    "import shapely\n",
    "from urllib.request import urlopen\n",
    "from PIL import Image"
   ]
  },
  {
   "cell_type": "code",
   "execution_count": 2,
   "metadata": {},
   "outputs": [],
   "source": [
    "df = gp.read_file(r'C:\\Users\\jairl\\Documents\\GitHub\\CORE\\website\\dataframe.geojson')\n",
    "def latlon_from_utm(x):\n",
    "    _coords = utm.to_latlon(x['geometry'].centroid.x,x['geometry'].centroid.y,zone_number=37,northern=True)\n",
    "    return(shapely.Point(_coords))\n",
    "\n",
    "df['latlon']=df.apply(latlon_from_utm,1)\n",
    "df['id'] = np.arange(len(df))"
   ]
  },
  {
   "cell_type": "code",
   "execution_count": 3,
   "metadata": {},
   "outputs": [],
   "source": [
    "with open('turkey_704.geojson') as file:\n",
    "    districts_json = json.load(file)\n",
    "districts = gp.read_file('turkey_704.geojson',encoding='')"
   ]
  },
  {
   "cell_type": "code",
   "execution_count": 4,
   "metadata": {},
   "outputs": [],
   "source": [
    "districts['num_buildings'] = 0 \n",
    "_coords = df.latlon.apply(lambda geom: shapely.ops.transform(lambda x, y: (y, x), geom))\n",
    "for n,district in enumerate(districts.geometry):\n",
    "    \n",
    "    n_buildings = sum(district.contains(_coords))\n",
    "    \n",
    "    if n_buildings != 0:\n",
    "        districts.loc[n,'num_buildings'] = n_buildings\n",
    "    else: \n",
    "        districts.loc[n,'num_buildings'] = np.random.randint(0,1000)"
   ]
  },
  {
   "cell_type": "code",
   "execution_count": 5,
   "metadata": {},
   "outputs": [],
   "source": [
    "df['material'] = 'wood'\n",
    "df['occupancy'] = np.random.randint(1,7,len(df))\n",
    "df['area'] = round(df['geometry'].area)"
   ]
  },
  {
   "cell_type": "code",
   "execution_count": 6,
   "metadata": {},
   "outputs": [],
   "source": [
    "destroyed = df[df['dmg']==4]\n",
    "not_destroyed = df[df['dmg']!=4]"
   ]
  },
  {
   "cell_type": "code",
   "execution_count": 7,
   "metadata": {},
   "outputs": [
    {
     "name": "stdout",
     "output_type": "stream",
     "text": [
      "Running on local URL:  http://127.0.0.1:7880\n",
      "\n",
      "To create a public link, set `share=True` in `launch()`.\n"
     ]
    },
    {
     "data": {
      "text/html": [
       "<div><iframe src=\"http://127.0.0.1:7880/\" width=\"100%\" height=\"500\" allow=\"autoplay; camera; microphone; clipboard-read; clipboard-write;\" frameborder=\"0\" allowfullscreen></iframe></div>"
      ],
      "text/plain": [
       "<IPython.core.display.HTML object>"
      ]
     },
     "metadata": {},
     "output_type": "display_data"
    }
   ],
   "source": [
    "layout = go.Layout(autosize=False,width=1000,height=600)\n",
    "fig = go.Figure(layout=layout)\n",
    "\n",
    "fig.add_trace(go.Scattermapbox(\n",
    "        lat=not_destroyed['latlon'].x,\n",
    "        lon=not_destroyed['latlon'].y,\n",
    "        mode='markers',\n",
    "        marker=go.scattermapbox.Marker(\n",
    "            size=2,\n",
    "            sizemin=15,\n",
    "            color='white',\n",
    "            opacity=1\n",
    "        ),\n",
    "        hoverinfo='none'\n",
    "    ))\n",
    "\n",
    "\n",
    "fig.add_trace(go.Scattermapbox(\n",
    "            customdata=destroyed[['occupancy','area','material','id']].values.tolist(),\n",
    "            lat=destroyed['latlon'].x,\n",
    "            lon=destroyed['latlon'].y,\n",
    "            mode='markers',\n",
    "            marker=go.scattermapbox.Marker(\n",
    "                size=10,\n",
    "                opacity = 1,\n",
    "                color = 'red',\n",
    "            ),\n",
    "            hovertemplate='<b>ID</b>: %{customdata[3]}<br><b>Expected occupancy</b>: %{customdata[0]}<br><b>Area</b>: %{customdata[1]}m<sup>2</sup><br><b>Contruction material</b>: %{customdata[2]}',\n",
    "            ),\n",
    "            )\n",
    "\n",
    "fig.update_layout(\n",
    "    mapbox_style=\"open-street-map\",\n",
    "    hovermode='closest',\n",
    "    hoverdistance =1000,\n",
    "    mapbox=dict(\n",
    "        bearing=0,\n",
    "        center=go.layout.mapbox.Center(\n",
    "            lat= 37,\n",
    "            lon=36\n",
    "        ),\n",
    "        pitch=5,\n",
    "        zoom=7\n",
    "    \n",
    "    )\n",
    ")\n",
    "with gr.Blocks() as regionmap:\n",
    "    map = gr.Plot(fig,scale=2,container=False)\n",
    "    regionmap.launch(server_port=7880) "
   ]
  },
  {
   "cell_type": "code",
   "execution_count": 8,
   "metadata": {},
   "outputs": [
    {
     "name": "stderr",
     "output_type": "stream",
     "text": [
      "c:\\Users\\jairl\\AppData\\Local\\Programs\\Python\\Python310\\lib\\site-packages\\geopandas\\geodataframe.py:1543: SettingWithCopyWarning:\n",
      "\n",
      "\n",
      "A value is trying to be set on a copy of a slice from a DataFrame.\n",
      "Try using .loc[row_indexer,col_indexer] = value instead\n",
      "\n",
      "See the caveats in the documentation: https://pandas.pydata.org/pandas-docs/stable/user_guide/indexing.html#returning-a-view-versus-a-copy\n",
      "\n"
     ]
    }
   ],
   "source": [
    "images = []\n",
    "for image_path in os.listdir('./folder'):\n",
    "    images.append(Image.open(f'./folder/{image_path}'))\n",
    "destroyed[['image']] = images[:len(destroyed)]"
   ]
  },
  {
   "cell_type": "code",
   "execution_count": 9,
   "metadata": {},
   "outputs": [
    {
     "name": "stdout",
     "output_type": "stream",
     "text": [
      "Running on local URL:  http://127.0.0.1:7881\n",
      "\n",
      "To create a public link, set `share=True` in `launch()`.\n"
     ]
    },
    {
     "data": {
      "text/html": [
       "<div><iframe src=\"http://127.0.0.1:7881/\" width=\"100%\" height=\"500\" allow=\"autoplay; camera; microphone; clipboard-read; clipboard-write;\" frameborder=\"0\" allowfullscreen></iframe></div>"
      ],
      "text/plain": [
       "<IPython.core.display.HTML object>"
      ]
     },
     "metadata": {},
     "output_type": "display_data"
    },
    {
     "data": {
      "text/plain": []
     },
     "execution_count": 9,
     "metadata": {},
     "output_type": "execute_result"
    }
   ],
   "source": [
    "def get_image(id):\n",
    "    return(destroyed.loc[int(id)].image.resize((500,500)))\n",
    "def get_data(id):\n",
    "    _data = destroyed.loc[id][['id','occupancy','area','material']]\n",
    "    html = '<b>Occupancy</b>: %i <b>Area</b>: %im<sup>2</sup> <b>Primary construction material</b>: %s' % (_data[1],_data[2],_data[3])\n",
    "    return(html)\n",
    "\n",
    "data = destroyed.iloc[0][['latlon','occupancy','area','material']]\n",
    "with gr.Blocks() as building_information:\n",
    "    with gr.Column():\n",
    "        id = gr.Dropdown(label='Building ID',choices=destroyed.id.tolist(),value=destroyed.id.iloc[0])\n",
    "        info = gr.HTML(value=('<b>Occupancy</b>: %i <b>Area</b>: %im<sup>2</sup> <b>Primary construction material</b>: %s' % (data[1],data[2],data[3])))\n",
    "        image = gr.Image(value=destroyed.image.iloc[0].resize((500,500)),scale=1)\n",
    "        id.select(get_image,inputs=[id], outputs=[image])\n",
    "        id.select(get_data,inputs=[id], outputs=[info])\n",
    "building_information.launch(server_port=7881)"
   ]
  },
  {
   "cell_type": "code",
   "execution_count": 10,
   "metadata": {},
   "outputs": [
    {
     "name": "stdout",
     "output_type": "stream",
     "text": [
      "Running on local URL:  http://127.0.0.1:7882\n",
      "\n",
      "To create a public link, set `share=True` in `launch()`.\n"
     ]
    },
    {
     "data": {
      "text/html": [
       "<div><iframe src=\"http://127.0.0.1:7882/\" width=\"100%\" height=\"500\" allow=\"autoplay; camera; microphone; clipboard-read; clipboard-write;\" frameborder=\"0\" allowfullscreen></iframe></div>"
      ],
      "text/plain": [
       "<IPython.core.display.HTML object>"
      ]
     },
     "metadata": {},
     "output_type": "display_data"
    },
    {
     "data": {
      "text/plain": []
     },
     "execution_count": 10,
     "metadata": {},
     "output_type": "execute_result"
    }
   ],
   "source": [
    "worldmap_fig = go.Figure(layout=layout)\n",
    "\n",
    "worldmap_fig.add_trace(go.Choroplethmapbox(geojson=districts_json, \n",
    "                                    locations=np.arange(1,len(districts)+1).tolist(), \n",
    "                                    z=districts.num_buildings,\n",
    "                                    customdata=districts[['name','num_buildings']].values.tolist(),\n",
    "                                    colorscale=[[0, 'rgb(255,255,255)'],[1, 'rgb(255,0,0)']], zauto=True,\n",
    "                                    marker_opacity=0.5, \n",
    "                                    marker_line_width=1, \n",
    "                                    hovertemplate='Province: <a href=\"https://drive.google.com/file/d/1A7bXvvn6Np7uQhXjGzSDeH-bGsdZmtsY/view?usp=drive_link\" target=\"_top\"> %{customdata[0]}</a><br>Num damaged: %{customdata[1]}'))\n",
    "\n",
    "worldmap_fig.update_layout(\n",
    "    mapbox_style=\"open-street-map\",\n",
    "    hovermode='closest',\n",
    "    mapbox=dict(\n",
    "        bearing=0,\n",
    "        center=go.layout.mapbox.Center(\n",
    "            lat= 37,\n",
    "            lon=36\n",
    "        ),\n",
    "        pitch=5,\n",
    "        zoom=3\n",
    "    )\n",
    ")\n",
    "\n",
    "\n",
    "with gr.Blocks() as worldmap:\n",
    "    map = gr.Plot(worldmap_fig)\n",
    "\n",
    "    \n",
    "worldmap.launch(server_port=7882)   "
   ]
  }
 ],
 "metadata": {
  "kernelspec": {
   "display_name": "Python 3",
   "language": "python",
   "name": "python3"
  },
  "language_info": {
   "codemirror_mode": {
    "name": "ipython",
    "version": 3
   },
   "file_extension": ".py",
   "mimetype": "text/x-python",
   "name": "python",
   "nbconvert_exporter": "python",
   "pygments_lexer": "ipython3",
   "version": "3.10.4"
  }
 },
 "nbformat": 4,
 "nbformat_minor": 2
}
