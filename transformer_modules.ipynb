{
 "cells": [
  {
   "cell_type": "code",
   "execution_count": 7,
   "metadata": {},
   "outputs": [],
   "source": [
    "import torch\n",
    "import torch.nn as nn\n",
    "import torch.nn.functional as F\n",
    "import numpy as np\n",
    "from matplotlib import image\n",
    "from matplotlib import pyplot as plt\n",
    "from shapely.wkt import loads\n",
    "import cv2 as cv\n",
    "from nn_modules import Transformer_Decoder_Layer, Encoder"
   ]
  },
  {
   "cell_type": "code",
   "execution_count": 5,
   "metadata": {},
   "outputs": [],
   "source": [
    "class Transformer_Decoder(nn.Module):\n",
    "    def __init__(self,dim,num_heads=8,batch_size=3,n_classes = 2,num_patches=64):\n",
    "        super().__init__()\n",
    "        self.pos_emb = nn.Embedding(num_patches,dim)\n",
    "        self.decoder_layer = Transformer_Decoder_Layer(dim,num_heads)\n",
    "        self.q = nn.Embedding(n_classes,16)  \n",
    "        self.batch_size = batch_size\n",
    "        self.classifier = nn.Sequential(nn.Linear(n_classes,n_classes+1),nn.Softmax(-1))\n",
    "        \n",
    "    def forward(self,input):\n",
    "        #for one layer\n",
    "        features = input+self.pos_emb.weight\n",
    "        q = self.q.weight.repeat(self.batch_size,1,1)\n",
    "        q,attn = self.decoder_layer(q,features)        \n",
    "        class_pred = self.classifier(attn.transpose(-1,-2))\n",
    "        \n",
    "        return(q,attn,class_pred)"
   ]
  },
  {
   "cell_type": "code",
   "execution_count": 6,
   "metadata": {},
   "outputs": [],
   "source": [
    "decoder = Transformer_Decoder(16,8,3)\n",
    "features = torch.rand(3,64,16)\n",
    "q,attn,class_pred = decoder(features)"
   ]
  }
 ],
 "metadata": {
  "kernelspec": {
   "display_name": "Python 3",
   "language": "python",
   "name": "python3"
  },
  "language_info": {
   "codemirror_mode": {
    "name": "ipython",
    "version": 3
   },
   "file_extension": ".py",
   "mimetype": "text/x-python",
   "name": "python",
   "nbconvert_exporter": "python",
   "pygments_lexer": "ipython3",
   "version": "3.10.4"
  }
 },
 "nbformat": 4,
 "nbformat_minor": 2
}
