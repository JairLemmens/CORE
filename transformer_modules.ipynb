{
 "cells": [
  {
   "cell_type": "code",
   "execution_count": 42,
   "metadata": {},
   "outputs": [],
   "source": [
    "import torch\n",
    "import torch.nn as nn\n",
    "import torch.nn.functional as F\n",
    "import numpy as np\n",
    "from matplotlib import image\n",
    "from matplotlib import pyplot as plt\n",
    "from shapely.wkt import loads\n",
    "import cv2 as cv\n",
    "from torch.nn import TransformerDecoder, TransformerDecoderLayer"
   ]
  },
  {
   "cell_type": "code",
   "execution_count": 43,
   "metadata": {},
   "outputs": [],
   "source": [
    "class ATM(nn.Module):\n",
    "    \n",
    "    def __init__(self, dim, num_heads, qkv_bias =False, qk_scale=None):\n",
    "        super().__init__()\n",
    "        self.num_heads = num_heads\n",
    "        head_dim = dim// num_heads\n",
    "        self.scale = qk_scale or head_dim ** -5\n",
    "        \n",
    "        self.q = nn.Linear(dim, dim, bias=qkv_bias)\n",
    "        self.k = nn.Linear(dim, dim, bias=qkv_bias)\n",
    "        self.v = nn.Linear(dim, dim, bias=qkv_bias)\n",
    "        \n",
    "        self.proj = nn.Linear(dim, dim)\n",
    "\n",
    "    def forward(self,xq,xk,xv):\n",
    "        B, Nq, C = xq.size()\n",
    "        Nk = xk.size()[1]\n",
    "        Nv = xv.size()[1]\n",
    "        \n",
    "        q = self.q(xq).reshape(B, Nq, self.num_heads, C // self.num_heads).permute(0, 2, 1, 3)\n",
    "        k = self.k(xk).reshape(B, Nk, self.num_heads, C // self.num_heads).permute(0, 2, 1, 3)\n",
    "        v = self.v(xv).reshape(B, Nv, self.num_heads, C // self.num_heads).permute(0, 2, 1, 3)\n",
    "        \n",
    "        attn = (q @ k.transpose(-2, -1)) * self.scale\n",
    "        attn_save = attn.clone()\n",
    "        attn = attn.softmax(dim=-1)\n",
    "        \n",
    "        x = (attn @ v).transpose(1, 2).reshape(B, Nq, C)\n",
    "        x = self.proj(x)\n",
    "        return x, attn_save.sum(dim=1) / self.num_heads"
   ]
  },
  {
   "cell_type": "code",
   "execution_count": 44,
   "metadata": {},
   "outputs": [],
   "source": [
    "class Transformer_Decoder_Layer(nn.Module):\n",
    "    \n",
    "    def __init__(self,dim,num_heads=1,qkv_bias=False,feed_forward_dim = None):\n",
    "        super().__init__()\n",
    "\n",
    "        if feed_forward_dim == None:\n",
    "            feed_forward_dim = dim*4\n",
    "\n",
    "        self.self_attn = nn.MultiheadAttention(dim, num_heads, dropout=.1, batch_first=True)\n",
    "        self.norm1 = nn.LayerNorm(dim)\n",
    "        self.multihead_attn =ATM(dim,num_heads,qkv_bias)\n",
    "        self.norm2 = nn.LayerNorm(dim)\n",
    "        self.linear1 = nn.Linear(dim,feed_forward_dim)\n",
    "        self.activation = nn.GELU()\n",
    "        self.linear2 = nn.Linear(feed_forward_dim,dim)\n",
    "        self.norm3 = nn.LayerNorm(dim)\n",
    "\n",
    "    def forward(self,x,memory):\n",
    "        x2 = self.self_attn(x,x,x)[0]\n",
    "        x += self.norm1(x2)\n",
    "\n",
    "        #if we add a Transformer Encoder instead of the convolutional one we can use the attn to make a nice graphic of the attention map but right now it is spatially meaningless\n",
    "        x2 , attn = self.multihead_attn(x,memory,memory)\n",
    "        x += self.norm2(x2)\n",
    "        \n",
    "        #FeedForward\n",
    "        x2 = self.linear1(x)\n",
    "        x2 = self.activation(x2)\n",
    "        x2 = self.linear2(x2)\n",
    "        x+= x2\n",
    "        x = self.norm3(x)\n",
    "        return(x,attn)"
   ]
  },
  {
   "cell_type": "code",
   "execution_count": 45,
   "metadata": {},
   "outputs": [],
   "source": [
    "class Transformer_Decoder(nn.Module):\n",
    "    def __init__(self,dim,num_heads=8,batch_size=3,n_classes = 2):\n",
    "        super().__init__()\n",
    "        self.decoder_layer = Transformer_Decoder_Layer(dim,num_heads)\n",
    "        self.q = nn.Embedding(n_classes,16)  \n",
    "        self.batch_size = batch_size\n",
    "\n",
    "    def forward(self,input):\n",
    "        #for one layer\n",
    "        features = input\n",
    "        q = self.q.weight.repeat(self.batch_size,1,1)\n",
    "        q,attn = self.decoder_layer(q,features)        \n",
    "\n",
    "        return(q,attn)"
   ]
  },
  {
   "cell_type": "code",
   "execution_count": 46,
   "metadata": {},
   "outputs": [
    {
     "name": "stdout",
     "output_type": "stream",
     "text": [
      "torch.Size([3, 2, 16])\n",
      "torch.Size([3, 2, 9])\n"
     ]
    }
   ],
   "source": [
    "test = Transformer_Decoder(16,8,3)\n",
    "features = torch.rand(3,9,16)\n",
    "q,attn = test(features)\n",
    "print(attn.shape)\n",
    "print(q.shape)\n"
   ]
  },
  {
   "cell_type": "code",
   "execution_count": 47,
   "metadata": {},
   "outputs": [],
   "source": [
    "classifier = nn.Linear(16,3)"
   ]
  },
  {
   "cell_type": "code",
   "execution_count": 48,
   "metadata": {},
   "outputs": [
    {
     "data": {
      "text/plain": [
       "torch.Size([2, 3, 2, 16])"
      ]
     },
     "execution_count": 48,
     "metadata": {},
     "output_type": "execute_result"
    }
   ],
   "source": [
    "qs = q\n",
    "qs = torch.stack([qs,qs],dim=0)\n",
    "qs.shape"
   ]
  },
  {
   "cell_type": "markdown",
   "metadata": {},
   "source": [
    "Testing the matrix multiplication"
   ]
  },
  {
   "cell_type": "code",
   "execution_count": 49,
   "metadata": {},
   "outputs": [
    {
     "name": "stdout",
     "output_type": "stream",
     "text": [
      "torch.Size([3, 8, 2, 9])\n",
      "torch.Size([3, 2, 16])\n"
     ]
    }
   ],
   "source": [
    "q = torch.rand(3,2,16)\n",
    "\n",
    "k = torch.rand(3,9,16)\n",
    "v = torch.rand(3,9,16)\n",
    "B,Nq,C = q.shape\n",
    "Nk = k.shape[1]\n",
    "Nv = v.shape[1]\n",
    "num_heads = 8\n",
    "\n",
    "_q = q.reshape(B, Nq, num_heads, C // num_heads).permute(0, 2, 1, 3)\n",
    "_k = k.reshape(B, Nk, num_heads, C // num_heads).permute(0, 2, 1, 3)\n",
    "_v = v.reshape(B, Nv, num_heads, C // num_heads).permute(0, 2, 1, 3)\n",
    "attn = _q@_k.transpose(-2,-1)\n",
    "\n",
    "attn = attn.softmax(dim=-1)\n",
    "print(attn.shape)\n",
    "x = (attn @ _v).transpose(1, 2).reshape(B, Nq, C)\n",
    "print(x.shape)"
   ]
  },
  {
   "cell_type": "code",
   "execution_count": 50,
   "metadata": {},
   "outputs": [
    {
     "data": {
      "text/plain": [
       "torch.Size([2, 3, 2, 16])"
      ]
     },
     "execution_count": 50,
     "metadata": {},
     "output_type": "execute_result"
    }
   ],
   "source": [
    "qs = [q,x]\n",
    "qs = torch.stack(qs,dim=0)\n",
    "qs.shape"
   ]
  }
 ],
 "metadata": {
  "kernelspec": {
   "display_name": "Python 3",
   "language": "python",
   "name": "python3"
  },
  "language_info": {
   "codemirror_mode": {
    "name": "ipython",
    "version": 3
   },
   "file_extension": ".py",
   "mimetype": "text/x-python",
   "name": "python",
   "nbconvert_exporter": "python",
   "pygments_lexer": "ipython3",
   "version": "3.10.4"
  }
 },
 "nbformat": 4,
 "nbformat_minor": 2
}
