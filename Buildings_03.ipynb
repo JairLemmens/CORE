{
 "cells": [
  {
   "cell_type": "markdown",
   "metadata": {},
   "source": [
    "## 0. IMPORTS"
   ]
  },
  {
   "cell_type": "code",
   "execution_count": 40,
   "metadata": {
    "execution": {
     "iopub.execute_input": "2023-03-27T07:40:10.510850Z",
     "iopub.status.busy": "2023-03-27T07:40:10.510375Z",
     "iopub.status.idle": "2023-03-27T07:40:12.528437Z",
     "shell.execute_reply": "2023-03-27T07:40:12.527481Z",
     "shell.execute_reply.started": "2023-03-27T07:40:10.510804Z"
    }
   },
   "outputs": [],
   "source": [
    "import numpy as np\n",
    "import os\n",
    "from PIL import Image\n",
    "import matplotlib.pyplot as plt\n",
    "import pandas as pd\n",
    "\n",
    "import torch\n",
    "import torchvision\n",
    "from torchvision import transforms as T\n",
    "from torchvision.models.detection.faster_rcnn import FastRCNNPredictor\n",
    "from torchvision.models.detection.mask_rcnn import MaskRCNNPredictor\n",
    "import torchvision.transforms.functional as F\n",
    "\n",
    "import imageio.v3 as iio\n",
    "import ipympl\n",
    "import skimage as ski\n",
    "\n",
    "import cv2"
   ]
  },
  {
   "cell_type": "markdown",
   "metadata": {},
   "source": [
    "## 1. LOAD DATA"
   ]
  },
  {
   "cell_type": "code",
   "execution_count": 2,
   "metadata": {
    "execution": {
     "iopub.execute_input": "2023-03-27T07:40:12.994007Z",
     "iopub.status.busy": "2023-03-27T07:40:12.993495Z",
     "iopub.status.idle": "2023-03-27T07:40:13.162589Z",
     "shell.execute_reply": "2023-03-27T07:40:13.161654Z",
     "shell.execute_reply.started": "2023-03-27T07:40:12.993973Z"
    }
   },
   "outputs": [],
   "source": [
    "images = sorted(os.listdir(\"C:/Users/kubaw/Desktop/DELFT/CORE/satellite_predictions/Dataset2/Images/Destroyed\"))\n",
    "masks = sorted(os.listdir(\"C:/Users/kubaw/Desktop/DELFT/CORE/satellite_predictions/Dataset2/Masks/Destroyed\"))"
   ]
  },
  {
   "cell_type": "code",
   "execution_count": 3,
   "metadata": {
    "execution": {
     "iopub.execute_input": "2023-03-27T07:40:13.165708Z",
     "iopub.status.busy": "2023-03-27T07:40:13.165085Z",
     "iopub.status.idle": "2023-03-27T07:40:13.209624Z",
     "shell.execute_reply": "2023-03-27T07:40:13.208775Z",
     "shell.execute_reply.started": "2023-03-27T07:40:13.165668Z"
    }
   },
   "outputs": [],
   "source": [
    "idx = 15\n",
    "\n",
    "img = Image.open(\"C:/Users/kubaw/Desktop/DELFT/CORE/satellite_predictions/Dataset2/Images/Destroyed/\" + images[idx]).convert(\"RGB\")\n",
    "mask = Image.open(\"C:/Users/kubaw/Desktop/DELFT/CORE/satellite_predictions/Dataset2/Masks/Destroyed/\" + masks[idx])"
   ]
  },
  {
   "cell_type": "code",
   "execution_count": 4,
   "metadata": {
    "execution": {
     "iopub.execute_input": "2023-03-27T07:40:13.256236Z",
     "iopub.status.busy": "2023-03-27T07:40:13.255955Z",
     "iopub.status.idle": "2023-03-27T07:40:13.375554Z",
     "shell.execute_reply": "2023-03-27T07:40:13.374598Z",
     "shell.execute_reply.started": "2023-03-27T07:40:13.256210Z"
    }
   },
   "outputs": [
    {
     "data": {
      "image/png": "[encoded data removed]",
      "text/plain": [
       "<PIL.Image.Image image mode=RGB size=64x64>"
      ]
     },
     "execution_count": 4,
     "metadata": {},
     "output_type": "execute_result"
    }
   ],
   "source": [
    "img"
   ]
  },
  {
   "cell_type": "code",
   "execution_count": 5,
   "metadata": {},
   "outputs": [
    {
     "data": {
      "image/png": "[encoded data removed]",
      "text/plain": [
       "<PIL.JpegImagePlugin.JpegImageFile image mode=RGB size=64x64>"
      ]
     },
     "execution_count": 5,
     "metadata": {},
     "output_type": "execute_result"
    }
   ],
   "source": [
    "mask"
   ]
  },
  {
   "cell_type": "code",
   "execution_count": 6,
   "metadata": {
    "execution": {
     "iopub.execute_input": "2023-03-27T07:40:13.412985Z",
     "iopub.status.busy": "2023-03-27T07:40:13.412672Z",
     "iopub.status.idle": "2023-03-27T07:40:13.425378Z",
     "shell.execute_reply": "2023-03-27T07:40:13.424446Z",
     "shell.execute_reply.started": "2023-03-27T07:40:13.412959Z"
    }
   },
   "outputs": [
    {
     "data": {
      "text/plain": [
       "(64, 64, 3)"
      ]
     },
     "execution_count": 6,
     "metadata": {},
     "output_type": "execute_result"
    }
   ],
   "source": [
    "np.shape(mask)"
   ]
  },
  {
   "cell_type": "code",
   "execution_count": 7,
   "metadata": {},
   "outputs": [],
   "source": [
    "mask_arr = np.array(mask)\n",
    "np.set_printoptions(threshold=100)"
   ]
  },
  {
   "cell_type": "markdown",
   "metadata": {},
   "source": [
    "### 1.1 Transform one mask to 1 dim arrays"
   ]
  },
  {
   "cell_type": "code",
   "execution_count": 8,
   "metadata": {
    "execution": {
     "iopub.execute_input": "2023-03-27T07:40:13.595171Z",
     "iopub.status.busy": "2023-03-27T07:40:13.594523Z",
     "iopub.status.idle": "2023-03-27T07:40:13.604294Z",
     "shell.execute_reply": "2023-03-27T07:40:13.603080Z",
     "shell.execute_reply.started": "2023-03-27T07:40:13.595128Z"
    }
   },
   "outputs": [
    {
     "data": {
      "image/png": "[encoded data removed]",
      "text/plain": [
       "<Figure size 640x480 with 2 Axes>"
      ]
     },
     "metadata": {},
     "output_type": "display_data"
    }
   ],
   "source": [
    "# Define color thresholds for blue and magenta\n",
    "blue_lower = np.array([0, 0, 100], dtype=np.uint8)\n",
    "blue_upper = np.array([50, 80, 255], dtype=np.uint8)\n",
    "\n",
    "magenta_lower = np.array([120, 0, 120], dtype=np.uint8)\n",
    "magenta_upper = np.array([255, 100, 255], dtype=np.uint8)\n",
    "\n",
    "# Create masks for blue and magenta regions\n",
    "blue_mask = cv2.inRange(mask_arr, blue_lower, blue_upper)\n",
    "magenta_mask = cv2.inRange(mask_arr, magenta_lower, magenta_upper)\n",
    "\n",
    "# Combine the masks to get the final transformed mask\n",
    "transformed_mask = np.zeros_like(blue_mask)\n",
    "transformed_mask[blue_mask > 0] = 1  # Object 1 (Blue)\n",
    "transformed_mask[magenta_mask > 0] = 2  # Object 2 (Magenta)\n",
    "\n",
    "# Display the transformed mask using matplotlib\n",
    "plt.imshow(transformed_mask, cmap='viridis', vmin=0, vmax=2)  # Adjust the cmap as needed\n",
    "plt.colorbar(ticks=[0, 1, 2])\n",
    "plt.show()\n",
    "\n"
   ]
  },
  {
   "cell_type": "code",
   "execution_count": null,
   "metadata": {
    "execution": {
     "iopub.execute_input": "2023-03-27T07:40:13.727411Z",
     "iopub.status.busy": "2023-03-27T07:40:13.727106Z",
     "iopub.status.idle": "2023-03-27T07:40:13.738372Z",
     "shell.execute_reply": "2023-03-27T07:40:13.737331Z",
     "shell.execute_reply.started": "2023-03-27T07:40:13.727383Z"
    }
   },
   "outputs": [],
   "source": [
    "\n"
   ]
  },
  {
   "cell_type": "code",
   "execution_count": 9,
   "metadata": {},
   "outputs": [
    {
     "data": {
      "text/plain": [
       "array([0, 1, 2], dtype=uint8)"
      ]
     },
     "execution_count": 9,
     "metadata": {},
     "output_type": "execute_result"
    }
   ],
   "source": [
    "np.unique(transformed_mask)"
   ]
  },
  {
   "cell_type": "markdown",
   "metadata": {},
   "source": [
    "### 1.2 Apply the transform to all of them"
   ]
  },
  {
   "cell_type": "code",
   "execution_count": 10,
   "metadata": {},
   "outputs": [
    {
     "data": {
      "image/png": "[encoded data removed]",
      "text/plain": [
       "<Figure size 640x480 with 1 Axes>"
      ]
     },
     "metadata": {},
     "output_type": "display_data"
    }
   ],
   "source": [
    "mask_dir = \"C:/Users/kubaw/Desktop/DELFT/CORE/satellite_predictions/Dataset2/Masks/Destroyed\"  \n",
    "mask_filenames = masks.copy\n",
    "mask_arrays = []\n",
    "\n",
    "\n",
    "for filename in masks:\n",
    "    # Construct the full path to the image\n",
    "    mask_path = os.path.join(mask_dir, filename)\n",
    "\n",
    "    # Read the image and convert it to RGB (OpenCV loads images in BGR by default)\n",
    "    mask = cv2.imread(mask_path)\n",
    "    mask_rgb = cv2.cvtColor(mask, cv2.COLOR_BGR2RGB)\n",
    "\n",
    "    # Append the image array to the list\n",
    "    mask_arrays.append(mask_rgb)\n",
    "\n",
    "# Display the first image array\n",
    "plt.imshow(mask_arrays[idx])\n",
    "plt.show()\n"
   ]
  },
  {
   "cell_type": "code",
   "execution_count": 11,
   "metadata": {},
   "outputs": [],
   "source": [
    "def mask_to_2dim(mask_arrays):\n",
    "    \n",
    "    # takes a lists of 2 dim numpy arrays, \n",
    "    # returns 2dim torch tensor in form of 0 for background, 1 for undamaged, 2 for damaged\n",
    "    masks_transformed = []\n",
    "    \n",
    "\n",
    "    # Define color thresholds for blue and magenta\n",
    "    blue_lower = np.array([0, 0, 100], dtype=np.uint8)\n",
    "    blue_upper = np.array([80, 80, 255], dtype=np.uint8)\n",
    "\n",
    "    magenta_lower = np.array([120, 0, 120], dtype=np.uint8)\n",
    "    magenta_upper = np.array([255, 100, 255], dtype=np.uint8)\n",
    "    \n",
    "    for mask_arr in mask_arrays: \n",
    "        \n",
    "        \n",
    "        # Create masks for blue and magenta regions\n",
    "        blue_mask = cv2.inRange(mask_arr, blue_lower, blue_upper)\n",
    "        magenta_mask = cv2.inRange(mask_arr, magenta_lower, magenta_upper)\n",
    "\n",
    "        # Combine the masks to get the final transformed mask\n",
    "        transformed_mask = np.zeros_like(blue_mask)\n",
    "        transformed_mask[blue_mask > 0] = 1  # Object 1 (Blue)\n",
    "        transformed_mask[magenta_mask > 0] = 2  # Object 2 (Magenta)\n",
    "        \n",
    "        masks_transformed.append(transformed_mask)\n",
    "        \n",
    "    # transform to torch tensort \n",
    "            \n",
    "    masks_array = np.array(masks_transformed)\n",
    "    masks_tensor = torch.from_numpy(masks_array)\n",
    "    \n",
    "    return masks_tensor"
   ]
  },
  {
   "cell_type": "code",
   "execution_count": 47,
   "metadata": {},
   "outputs": [],
   "source": [
    "masks_transformed = mask_to_2dim(mask_arrays)\n"
   ]
  },
  {
   "cell_type": "markdown",
   "metadata": {},
   "source": [
    "## 2. Create bounding boxes for"
   ]
  },
  {
   "cell_type": "markdown",
   "metadata": {},
   "source": [
    "### 2.1 Test on one mask"
   ]
  },
  {
   "cell_type": "code",
   "execution_count": 13,
   "metadata": {},
   "outputs": [
    {
     "name": "stdout",
     "output_type": "stream",
     "text": [
      "torch.Size([3, 64, 64])\n",
      "torch.Size([64, 64])\n"
     ]
    }
   ],
   "source": [
    "# make test image and mask\n",
    "img_torch = torch.from_numpy(np.array(img))\n",
    "mask_torch = torch.from_numpy(np.array(transformed_mask))\n",
    "\n",
    "\n",
    "img_test = img_torch.permute(2, 0, 1)\n",
    "mask_test = mask_torch\n",
    "\n",
    "print(img_test.size())\n",
    "print(mask_test.size())\n",
    "\n",
    "print_tensor = mask_test.numpy()\n",
    "\n",
    "# Print the entire NumPy array\n",
    "#np.set_printoptions(threshold=np.inf)\n",
    "#print_tensor\n"
   ]
  },
  {
   "cell_type": "code",
   "execution_count": 26,
   "metadata": {},
   "outputs": [
    {
     "name": "stdout",
     "output_type": "stream",
     "text": [
      "torch.Size([6, 64, 64])\n"
     ]
    },
    {
     "data": {
      "text/plain": [
       "tensor([1, 2, 3, 4, 5, 6])"
      ]
     },
     "execution_count": 26,
     "metadata": {},
     "output_type": "execute_result"
    }
   ],
   "source": [
    "# use Connected Component Analysis to extract all objects from the image\n",
    "\n",
    "mask_test, count = ski.measure.label(mask_test, connectivity=1, return_num=True)\n",
    "\n",
    "mask_test = torch.from_numpy(np.array(mask_test))\n",
    "\n",
    "# We get the unique colors, as these would be the object ids.\n",
    "obj_ids = torch.unique(mask_test)\n",
    "\n",
    "# first id is the background, so remove it.\n",
    "obj_ids = obj_ids[1:]\n",
    "\n",
    "# split the color-encoded mask into a set of boolean masks.\n",
    "maskS_test = mask_test == obj_ids[:, None, None]\n",
    "\n",
    "print(maskS_test.size())\n",
    "obj_ids # count of objects on the image"
   ]
  },
  {
   "cell_type": "code",
   "execution_count": 27,
   "metadata": {},
   "outputs": [
    {
     "name": "stdout",
     "output_type": "stream",
     "text": [
      "torch.Size([6, 4])\n",
      "tensor([[ 0.,  0., 31., 20.],\n",
      "        [34.,  2., 63., 47.],\n",
      "        [ 0., 23.,  0., 25.],\n",
      "        [ 0., 30., 15., 63.],\n",
      "        [31., 41., 50., 59.],\n",
      "        [45., 55., 63., 63.]])\n"
     ]
    }
   ],
   "source": [
    "from torchvision.ops import masks_to_boxes\n",
    "\n",
    "#make boxes (x1, x2, y1, y2)\n",
    "boxes = masks_to_boxes(maskS_test)\n",
    "print(boxes.size())\n",
    "print(boxes)"
   ]
  },
  {
   "cell_type": "code",
   "execution_count": 28,
   "metadata": {},
   "outputs": [],
   "source": [
    "def show(imgs):\n",
    "    if not isinstance(imgs, list):\n",
    "        imgs = [imgs]\n",
    "    fix, axs = plt.subplots(ncols=len(imgs), squeeze=False)\n",
    "    for i, img in enumerate(imgs):\n",
    "        img = img.detach()\n",
    "        img = F.to_pil_image(img)\n",
    "        axs[0, i].imshow(np.asarray(img))\n",
    "        axs[0, i].set(xticklabels=[], yticklabels=[], xticks=[], yticks=[])"
   ]
  },
  {
   "cell_type": "code",
   "execution_count": 29,
   "metadata": {},
   "outputs": [
    {
     "data": {
      "application/vnd.jupyter.widget-view+json": {
       "model_id": "326d309c34b746f589c9abfaf113291f",
       "version_major": 2,
       "version_minor": 0
      },
      "image/png": "[encoded data removed]",
      "text/html": [
       "\n",
       "            <div style=\"display: inline-block;\">\n",
       "                <div class=\"jupyter-widgets widget-label\" style=\"text-align: center;\">\n",
       "                    Figure\n",
       "                </div>\n",
       "                <img src='data:image/png;base64,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' width=640.0/>\n",
       "            </div>\n",
       "        "
      ],
      "text/plain": [
       "Canvas(toolbar=Toolbar(toolitems=[('Home', 'Reset original view', 'home', 'home'), ('Back', 'Back to previous …"
      ]
     },
     "metadata": {},
     "output_type": "display_data"
    }
   ],
   "source": [
    "\n",
    "from torchvision.utils import draw_bounding_boxes\n",
    "\n",
    "drawn_boxes = draw_bounding_boxes(img_test, boxes, colors=\"red\")\n",
    "show(drawn_boxes)"
   ]
  },
  {
   "cell_type": "code",
   "execution_count": 32,
   "metadata": {},
   "outputs": [
    {
     "data": {
      "application/vnd.jupyter.widget-view+json": {
       "model_id": "df9b30d9f0a5425392ac583756b3a1d8",
       "version_major": 2,
       "version_minor": 0
      },
      "image/png": "[encoded data removed]",
      "text/html": [
       "\n",
       "            <div style=\"display: inline-block;\">\n",
       "                <div class=\"jupyter-widgets widget-label\" style=\"text-align: center;\">\n",
       "                    Figure\n",
       "                </div>\n",
       "                <img src='data:image/png;base64,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' width=640.0/>\n",
       "            </div>\n",
       "        "
      ],
      "text/plain": [
       "Canvas(toolbar=Toolbar(toolitems=[('Home', 'Reset original view', 'home', 'home'), ('Back', 'Back to previous …"
      ]
     },
     "metadata": {},
     "output_type": "display_data"
    }
   ],
   "source": [
    "from torchvision.utils import draw_segmentation_masks\n",
    "# visualise masks\n",
    "drawn_masks = draw_segmentation_masks(img_test, maskS_test, alpha=0.8)\n",
    "show(drawn_masks)"
   ]
  },
  {
   "cell_type": "markdown",
   "metadata": {},
   "source": [
    "### 2.2 Make bounding boxes for all images"
   ]
  },
  {
   "cell_type": "code",
   "execution_count": 33,
   "metadata": {},
   "outputs": [],
   "source": [
    "def mask_to_box(masks_transformed):\n",
    "    \n",
    "    boxes_list = []\n",
    "    \n",
    "    for mask in masks_transformed:\n",
    "        \n",
    "        mask, count = ski.measure.label(mask, connectivity=1, return_num=True)\n",
    "\n",
    "        mask = torch.from_numpy(np.array(mask))\n",
    "        # We get the unique colors, as these would be the object ids.\n",
    "        obj_ids = torch.unique(mask)\n",
    "\n",
    "        # first id is the background, so remove it.\n",
    "        obj_ids = obj_ids[1:]\n",
    "\n",
    "        # split the color-encoded mask into a set of boolean masks.\n",
    "        maskS_test = mask == obj_ids[:, None, None]\n",
    "        \n",
    "        boxes = masks_to_boxes(maskS_test)\n",
    "\n",
    "        boxes_list.append(boxes)\n",
    "        \n",
    "    return boxes_list\n",
    "        \n",
    "#img_test = img_torch.permute(2, 0, 1)\n",
    "#drawn_boxes = draw_bounding_boxes(img_test, boxes, colors=\"red\")\n",
    "#show(drawn_boxes)\n"
   ]
  },
  {
   "cell_type": "code",
   "execution_count": 45,
   "metadata": {},
   "outputs": [
    {
     "data": {
      "text/plain": [
       "[tensor([[ 0., 24.,  7., 39.],\n",
       "         [ 0., 26., 43., 63.],\n",
       "         [36., 50., 52., 63.],\n",
       "         [52., 57., 63., 63.]]),\n",
       " tensor([[ 0.,  8., 13., 35.],\n",
       "         [ 2., 20., 53., 57.],\n",
       "         [56., 53., 63., 63.]]),\n",
       " tensor([[ 0., 23., 31., 63.],\n",
       "         [16., 36., 63., 63.],\n",
       "         [32., 37., 32., 37.]]),\n",
       " tensor([[ 0.,  9., 46., 59.],\n",
       "         [32., 31., 63., 63.]]),\n",
       " tensor([[ 0.,  0., 15., 31.],\n",
       "         [ 0.,  6., 51., 54.],\n",
       "         [40., 29., 63., 57.]]),\n",
       " tensor([[ 0.,  0., 17., 22.],\n",
       "         [ 1., 13., 63., 63.]]),\n",
       " tensor([[ 6.,  0., 21.,  2.],\n",
       "         [30.,  0., 58., 16.],\n",
       "         [ 0., 20., 39., 63.],\n",
       "         [32., 23., 54., 35.],\n",
       "         [37., 35., 59., 63.],\n",
       "         [ 0., 60.,  7., 63.],\n",
       "         [46., 63., 46., 63.]]),\n",
       " tensor([[ 0.,  0., 63., 63.],\n",
       "         [49.,  0., 63., 28.]]),\n",
       " tensor([[32.,  0., 63., 63.],\n",
       "         [ 0.,  8., 20., 34.],\n",
       "         [ 0., 44., 13., 60.]]),\n",
       " tensor([[ 5.,  0., 24.,  4.],\n",
       "         [ 0.,  4., 39., 46.],\n",
       "         [58.,  5., 63., 15.],\n",
       "         [62., 15., 62., 15.],\n",
       "         [54., 17., 63., 33.],\n",
       "         [ 0., 56., 30., 63.]]),\n",
       " tensor([[ 0.,  0.,  7.,  5.],\n",
       "         [28.,  2., 63., 16.],\n",
       "         [ 0.,  7., 11., 37.],\n",
       "         [32., 38., 63., 63.],\n",
       "         [ 0., 42.,  6., 54.]]),\n",
       " tensor([[ 0.,  0., 28., 26.],\n",
       "         [44.,  0., 63.,  6.],\n",
       "         [40., 13., 63., 29.],\n",
       "         [ 0., 24.,  2., 28.],\n",
       "         [ 0., 28., 63., 57.],\n",
       "         [17., 60., 28., 63.]]),\n",
       " tensor([[ 0.,  0., 31., 25.],\n",
       "         [51.,  0., 63., 21.],\n",
       "         [43., 24., 63., 61.],\n",
       "         [ 0., 33., 24., 51.],\n",
       "         [ 0., 59., 18., 63.]]),\n",
       " tensor([[10.,  0., 22.,  4.],\n",
       "         [34.,  0., 63., 31.],\n",
       "         [ 0.,  7.,  0.,  9.],\n",
       "         [ 0., 14., 15., 55.],\n",
       "         [34., 20., 34., 20.],\n",
       "         [31., 25., 50., 43.],\n",
       "         [44., 39., 63., 55.]]),\n",
       " tensor([[36.,  0., 51.,  1.],\n",
       "         [ 0.,  5., 47., 63.],\n",
       "         [25.,  8., 47., 20.],\n",
       "         [30., 20., 52., 50.],\n",
       "         [ 0., 48., 21., 63.]]),\n",
       " tensor([[ 0.,  0., 32., 20.],\n",
       "         [34.,  2., 63., 47.],\n",
       "         [ 0., 23.,  0., 25.],\n",
       "         [ 0., 30., 15., 63.],\n",
       "         [34., 36., 34., 36.],\n",
       "         [31., 41., 50., 59.],\n",
       "         [45., 55., 63., 63.]]),\n",
       " tensor([[22.,  0., 63., 63.],\n",
       "         [ 0.,  7., 10., 30.],\n",
       "         [ 0., 44.,  3., 59.]]),\n",
       " tensor([[ 2.,  0., 63., 63.],\n",
       "         [49.,  0., 63., 12.],\n",
       "         [54., 13., 63., 39.],\n",
       "         [ 0., 61.,  6., 63.]]),\n",
       " tensor([[ 5.,  0., 63., 39.],\n",
       "         [34., 45., 63., 63.],\n",
       "         [ 0., 47., 20., 63.]]),\n",
       " tensor([[ 0.,  0.,  6.,  1.],\n",
       "         [24.,  0., 34., 12.],\n",
       "         [44.,  0., 59., 13.],\n",
       "         [ 0.,  8.,  3., 17.],\n",
       "         [25., 15., 59., 29.],\n",
       "         [ 0., 20.,  8., 50.],\n",
       "         [45., 48., 63., 63.],\n",
       "         [ 0., 57.,  2., 63.]]),\n",
       " tensor([[ 0.,  0., 39., 63.],\n",
       "         [23.,  0., 43., 15.],\n",
       "         [53., 44., 63., 63.]]),\n",
       " tensor([[ 2.,  0., 44., 45.],\n",
       "         [51.,  0., 63., 20.],\n",
       "         [57., 32., 63., 42.],\n",
       "         [ 0., 39., 18., 55.],\n",
       "         [12., 47., 63., 63.]]),\n",
       " tensor([[30.,  0., 31.,  0.],\n",
       "         [14.,  6., 59., 33.],\n",
       "         [ 0., 24.,  7., 45.],\n",
       "         [19., 40., 52., 59.],\n",
       "         [ 1., 55., 27., 63.]]),\n",
       " tensor([[20.,  0., 26.,  2.],\n",
       "         [38.,  0., 63., 27.],\n",
       "         [ 0.,  2.,  4., 10.],\n",
       "         [ 0., 11., 18., 53.],\n",
       "         [35., 24., 55., 41.],\n",
       "         [48., 37., 63., 52.]]),\n",
       " tensor([[ 0.,  0., 36., 47.],\n",
       "         [55.,  0., 63.,  7.],\n",
       "         [36., 29., 63., 63.],\n",
       "         [46., 30., 46., 30.],\n",
       "         [ 0., 49.,  1., 53.],\n",
       "         [ 0., 56., 13., 63.]]),\n",
       " tensor([[ 0.,  0., 29., 26.],\n",
       "         [28.,  8., 63., 54.],\n",
       "         [ 0., 39.,  9., 51.],\n",
       "         [25., 47., 44., 63.],\n",
       "         [ 0., 58.,  3., 63.],\n",
       "         [40., 61., 51., 63.]]),\n",
       " tensor([[36.,  0., 49.,  5.],\n",
       "         [ 0.,  8., 12., 25.],\n",
       "         [24., 10., 47., 23.],\n",
       "         [29., 23., 51., 53.],\n",
       "         [ 0., 28., 45., 63.],\n",
       "         [ 0., 52., 15., 63.]]),\n",
       " tensor([[ 0.,  0., 29., 22.],\n",
       "         [30.,  4., 63., 50.],\n",
       "         [37., 17., 37., 17.],\n",
       "         [ 0., 34., 11., 48.],\n",
       "         [27., 44., 46., 61.],\n",
       "         [ 0., 54.,  6., 63.],\n",
       "         [41., 57., 63., 63.]]),\n",
       " tensor([[ 0.,  0., 21., 27.],\n",
       "         [40.,  0., 63., 21.],\n",
       "         [ 0., 26., 20., 58.],\n",
       "         [26., 40., 62., 63.]]),\n",
       " tensor([[ 1.,  0., 63., 28.],\n",
       "         [30., 34., 63., 61.],\n",
       "         [ 0., 37., 23., 63.]]),\n",
       " tensor([[ 6.,  0., 50., 33.],\n",
       "         [50., 15., 63., 57.],\n",
       "         [ 0., 24., 17., 42.],\n",
       "         [ 0., 42., 31., 63.],\n",
       "         [47., 55., 63., 63.]]),\n",
       " tensor([[ 0.,  0., 35., 28.],\n",
       "         [ 0., 27., 24., 54.],\n",
       "         [62., 37., 63., 39.],\n",
       "         [11., 38., 57., 63.],\n",
       "         [59., 58., 63., 63.]]),\n",
       " tensor([[ 0.,  0., 46., 52.],\n",
       "         [37.,  0., 63., 63.]]),\n",
       " tensor([[12.,  9., 49., 44.],\n",
       "         [35., 21., 63., 63.]]),\n",
       " tensor([[28.,  0., 55., 12.],\n",
       "         [47.,  7., 63., 42.]]),\n",
       " tensor([[ 0.,  0., 18., 28.],\n",
       "         [23., 57., 43., 63.]]),\n",
       " tensor([[ 0.,  0., 63., 63.],\n",
       "         [ 0., 58., 12., 63.]]),\n",
       " tensor([[31., 20., 63., 63.],\n",
       "         [ 0., 22., 35., 57.]]),\n",
       " tensor([[ 0., 24., 18., 60.]]),\n",
       " tensor([[ 0.,  0., 63., 52.],\n",
       "         [43., 36., 63., 63.]]),\n",
       " tensor([[ 0.,  0., 63., 63.],\n",
       "         [ 0., 57.,  3., 63.]]),\n",
       " tensor([[ 0.,  0., 10., 14.],\n",
       "         [23.,  8., 63., 63.],\n",
       "         [ 0., 60., 15., 63.]]),\n",
       " tensor([[ 0.,  0., 63., 61.],\n",
       "         [38., 29., 63., 63.]]),\n",
       " tensor([[ 4., 41., 48., 63.]]),\n",
       " tensor([[46.,  2., 63., 31.],\n",
       "         [ 3., 55., 28., 63.]]),\n",
       " tensor([[21.,  0., 63., 55.],\n",
       "         [ 0., 25., 63., 63.]]),\n",
       " tensor([[ 0.,  0., 38., 63.],\n",
       "         [25., 13., 63., 63.]]),\n",
       " tensor([[ 0.,  0.,  9., 12.],\n",
       "         [ 0.,  0., 61., 63.]]),\n",
       " tensor([[ 0.,  0., 44., 60.],\n",
       "         [51., 43., 63., 63.]]),\n",
       " tensor([[ 0.,  0., 63., 63.]]),\n",
       " tensor([[ 0.,  0., 12., 29.],\n",
       "         [42.,  0., 63., 18.],\n",
       "         [60., 59., 63., 63.]]),\n",
       " tensor([[ 0.,  0., 31., 38.],\n",
       "         [ 0.,  0., 63., 63.]]),\n",
       " tensor([[ 0., 14., 10., 34.],\n",
       "         [ 0., 16., 51., 63.],\n",
       "         [61., 29., 63., 33.],\n",
       "         [41., 48., 61., 63.],\n",
       "         [57., 57., 63., 63.]]),\n",
       " tensor([[ 0.,  0., 48., 63.],\n",
       "         [ 2.,  0., 63., 45.],\n",
       "         [59., 53., 63., 63.]]),\n",
       " tensor([[ 0.,  0.,  1.,  2.],\n",
       "         [ 2.,  0., 63., 63.]]),\n",
       " tensor([[19.,  0., 63., 40.],\n",
       "         [ 0., 29.,  9., 47.],\n",
       "         [12., 40., 59., 63.],\n",
       "         [ 0., 43., 20., 63.],\n",
       "         [49., 56., 63., 63.]]),\n",
       " tensor([[ 0.,  0., 14., 22.],\n",
       "         [61., 21., 63., 26.],\n",
       "         [19., 57., 39., 63.]]),\n",
       " tensor([[17., 50., 44., 63.]]),\n",
       " tensor([[ 0., 34., 17., 63.]]),\n",
       " tensor([[ 0., 16., 63., 63.]]),\n",
       " tensor([[ 0., 15., 46., 63.],\n",
       "         [48., 43., 63., 63.]]),\n",
       " tensor([[18., 34., 45., 61.]]),\n",
       " tensor([[48., 52., 63., 63.],\n",
       "         [ 0., 56., 10., 63.]]),\n",
       " tensor([[21.,  0., 45., 15.]]),\n",
       " tensor([[28., 49., 47., 63.]]),\n",
       " tensor([[57., 17., 63., 37.]]),\n",
       " tensor([[37., 20., 63., 56.],\n",
       "         [ 0., 33., 12., 52.]]),\n",
       " tensor([[ 0.,  0., 20., 24.],\n",
       "         [45.,  0., 63., 29.],\n",
       "         [53., 38., 63., 52.]]),\n",
       " tensor([[58., 26., 63., 43.]]),\n",
       " tensor([[25.,  0., 51., 22.]]),\n",
       " tensor([[31.,  0., 51.,  3.]]),\n",
       " tensor([[ 0.,  0., 14.,  7.],\n",
       "         [ 4.,  6., 15., 23.],\n",
       "         [42.,  6., 63., 27.]]),\n",
       " tensor([[14.,  0., 25.,  0.],\n",
       "         [50.,  0., 61., 13.],\n",
       "         [ 0., 14.,  7., 31.],\n",
       "         [ 7., 23., 30., 55.],\n",
       "         [25., 48., 54., 63.],\n",
       "         [ 3., 61.,  8., 63.]]),\n",
       " tensor([[ 0.,  0., 61., 17.],\n",
       "         [45., 15., 63., 34.],\n",
       "         [ 7., 16., 18., 32.]]),\n",
       " tensor([[17.,  0., 63., 63.],\n",
       "         [ 0.,  3., 17., 39.],\n",
       "         [ 0., 44., 23., 63.]]),\n",
       " tensor([[23., 50., 63., 63.],\n",
       "         [ 0., 61.,  5., 63.]]),\n",
       " tensor([[ 0.,  0., 63., 39.],\n",
       "         [15., 36., 26., 53.],\n",
       "         [53., 38., 63., 53.]]),\n",
       " tensor([[ 0., 34., 63., 63.]]),\n",
       " tensor([[ 0.,  0., 63., 54.],\n",
       "         [49., 49., 49., 49.],\n",
       "         [45., 51., 56., 63.]]),\n",
       " tensor([[ 0., 22., 63., 63.]]),\n",
       " tensor([[ 0.,  0., 21., 21.],\n",
       "         [13., 14., 45., 45.],\n",
       "         [39., 18., 63., 51.],\n",
       "         [ 0., 24.,  2., 29.],\n",
       "         [ 0., 48., 57., 63.]]),\n",
       " tensor([[ 0.,  0., 23., 18.],\n",
       "         [ 0., 54., 63., 63.]]),\n",
       " tensor([[ 2.,  0., 34., 20.],\n",
       "         [28.,  0., 63., 26.],\n",
       "         [ 0., 23., 47., 63.]]),\n",
       " tensor([[ 0.,  8., 13., 27.],\n",
       "         [ 5., 22., 37., 53.],\n",
       "         [32., 26., 63., 59.],\n",
       "         [ 0., 56., 31., 63.]]),\n",
       " tensor([[ 0.,  0., 63., 51.],\n",
       "         [21., 61., 26., 63.],\n",
       "         [10., 63., 11., 63.]]),\n",
       " tensor([[ 0.,  0., 63., 54.],\n",
       "         [17., 52., 28., 63.],\n",
       "         [56., 53., 63., 63.]]),\n",
       " tensor([[ 0.,  0., 63., 60.],\n",
       "         [55., 57., 63., 63.]]),\n",
       " tensor([[ 0.,  0., 12., 18.],\n",
       "         [26.,  0., 56., 14.],\n",
       "         [52.,  0., 63., 16.],\n",
       "         [ 0., 16., 63., 63.]]),\n",
       " tensor([[ 1.,  0., 49., 29.],\n",
       "         [49.,  0., 63.,  8.],\n",
       "         [ 2., 31., 52., 59.],\n",
       "         [55., 35., 63., 50.],\n",
       "         [46., 49., 63., 63.]]),\n",
       " tensor([[ 0.,  0., 43., 45.],\n",
       "         [43., 35., 63., 63.],\n",
       "         [ 0., 45., 23., 63.]]),\n",
       " tensor([[ 8.,  0., 10.,  0.],\n",
       "         [15.,  0., 40., 11.],\n",
       "         [40.,  0., 63., 43.],\n",
       "         [ 0.,  2., 21., 29.],\n",
       "         [ 0., 34., 23., 61.],\n",
       "         [26., 34., 63., 63.],\n",
       "         [59., 44., 59., 44.],\n",
       "         [19., 51., 46., 63.]]),\n",
       " tensor([[16.,  0., 22.,  3.],\n",
       "         [28.,  0., 63., 39.],\n",
       "         [ 0.,  2.,  9., 21.],\n",
       "         [14., 26., 63., 63.],\n",
       "         [ 0., 27., 11., 49.],\n",
       "         [ 3., 43., 44., 63.]]),\n",
       " tensor([[ 0.,  0., 50., 35.],\n",
       "         [50., 28., 63., 63.],\n",
       "         [ 0., 31., 30., 61.],\n",
       "         [ 0., 59.,  1., 61.]]),\n",
       " tensor([[ 0.,  0.,  1.,  3.],\n",
       "         [13.,  0., 45.,  9.],\n",
       "         [ 0.,  8., 60., 57.],\n",
       "         [ 0., 48., 31., 63.]]),\n",
       " tensor([[ 0.,  0.,  7., 11.],\n",
       "         [42.,  0., 63., 61.],\n",
       "         [ 5., 23., 33., 43.],\n",
       "         [ 0., 31.,  2., 38.]]),\n",
       " tensor([[ 0.,  0., 39., 30.],\n",
       "         [53.,  6., 63., 26.],\n",
       "         [38.,  7., 50., 21.]]),\n",
       " tensor([[ 0.,  0.,  7., 23.],\n",
       "         [19.,  0., 63., 26.],\n",
       "         [63., 14., 63., 14.]]),\n",
       " tensor([[ 0.,  0., 46., 31.],\n",
       "         [45.,  8., 57., 22.],\n",
       "         [60.,  8., 63., 27.]]),\n",
       " tensor([[ 0.,  0.,  9., 16.]]),\n",
       " tensor([[ 0., 53.,  9., 63.]]),\n",
       " tensor([[ 0.,  0.,  9.,  6.],\n",
       "         [44., 59., 53., 63.]]),\n",
       " tensor([[22., 48., 61., 63.]]),\n",
       " tensor([[ 0.,  0., 28., 19.],\n",
       "         [23., 14., 23., 14.],\n",
       "         [22., 15., 22., 15.],\n",
       "         [56., 16., 63., 31.],\n",
       "         [ 0., 46., 26., 63.]]),\n",
       " tensor([[ 5., 47., 47., 63.]]),\n",
       " tensor([[10.,  0., 33., 22.]]),\n",
       " tensor([[ 4., 38., 27., 61.]]),\n",
       " tensor([[26., 30., 49., 53.]]),\n",
       " tensor([[ 0.,  0., 63., 38.],\n",
       "         [ 0., 26., 38., 43.],\n",
       "         [ 0., 50., 51., 63.]]),\n",
       " tensor([[ 0.,  0., 52., 45.],\n",
       "         [ 0., 44., 17., 63.],\n",
       "         [ 4., 45.,  4., 45.],\n",
       "         [57., 48., 63., 63.],\n",
       "         [11., 52., 45., 63.]]),\n",
       " tensor([[38.,  0., 45.,  2.],\n",
       "         [59.,  0., 63.,  7.],\n",
       "         [34., 11., 63., 27.],\n",
       "         [ 0., 16., 23., 42.],\n",
       "         [33., 38., 63., 63.],\n",
       "         [ 0., 42., 26., 63.]]),\n",
       " tensor([[ 0.,  0.,  1.,  3.],\n",
       "         [12.,  0., 63., 29.],\n",
       "         [ 0., 12., 28., 28.],\n",
       "         [ 0., 36., 42., 63.],\n",
       "         [42., 49., 42., 49.]]),\n",
       " tensor([[ 0.,  0., 43., 31.],\n",
       "         [51.,  0., 63., 22.],\n",
       "         [ 0., 17., 40., 63.],\n",
       "         [48., 21., 63., 43.],\n",
       "         [56., 53., 63., 63.]]),\n",
       " tensor([[ 0.,  0., 63., 59.],\n",
       "         [ 0., 39.,  7., 47.],\n",
       "         [ 0., 57., 16., 63.],\n",
       "         [ 0., 59.,  0., 59.],\n",
       "         [15., 59., 15., 59.]]),\n",
       " tensor([[ 0.,  0., 21., 33.],\n",
       "         [26., 36., 53., 63.],\n",
       "         [ 0., 49., 17., 63.]])]"
      ]
     },
     "execution_count": 45,
     "metadata": {},
     "output_type": "execute_result"
    }
   ],
   "source": [
    "# apply the function\n",
    "bboxes = mask_to_box(masks_transformed)\n",
    "bboxes"
   ]
  },
  {
   "cell_type": "markdown",
   "metadata": {},
   "source": [
    "## 3. Add labels to bounding boxes"
   ]
  },
  {
   "cell_type": "code",
   "execution_count": 44,
   "metadata": {},
   "outputs": [
    {
     "data": {
      "text/html": [
       "<div>\n",
       "<style scoped>\n",
       "    .dataframe tbody tr th:only-of-type {\n",
       "        vertical-align: middle;\n",
       "    }\n",
       "\n",
       "    .dataframe tbody tr th {\n",
       "        vertical-align: top;\n",
       "    }\n",
       "\n",
       "    .dataframe thead th {\n",
       "        text-align: right;\n",
       "    }\n",
       "</style>\n",
       "<table border=\"1\" class=\"dataframe\">\n",
       "  <thead>\n",
       "    <tr style=\"text-align: right;\">\n",
       "      <th></th>\n",
       "      <th>0</th>\n",
       "    </tr>\n",
       "  </thead>\n",
       "  <tbody>\n",
       "    <tr>\n",
       "      <th>0</th>\n",
       "      <td>[[tensor(0.), tensor(24.), tensor(7.), tensor(...</td>\n",
       "    </tr>\n",
       "    <tr>\n",
       "      <th>1</th>\n",
       "      <td>[[tensor(0.), tensor(8.), tensor(13.), tensor(...</td>\n",
       "    </tr>\n",
       "    <tr>\n",
       "      <th>2</th>\n",
       "      <td>[[tensor(0.), tensor(23.), tensor(31.), tensor...</td>\n",
       "    </tr>\n",
       "    <tr>\n",
       "      <th>3</th>\n",
       "      <td>[[tensor(0.), tensor(9.), tensor(46.), tensor(...</td>\n",
       "    </tr>\n",
       "    <tr>\n",
       "      <th>4</th>\n",
       "      <td>[[tensor(0.), tensor(0.), tensor(15.), tensor(...</td>\n",
       "    </tr>\n",
       "    <tr>\n",
       "      <th>...</th>\n",
       "      <td>...</td>\n",
       "    </tr>\n",
       "    <tr>\n",
       "      <th>109</th>\n",
       "      <td>[[tensor(38.), tensor(0.), tensor(45.), tensor...</td>\n",
       "    </tr>\n",
       "    <tr>\n",
       "      <th>110</th>\n",
       "      <td>[[tensor(0.), tensor(0.), tensor(1.), tensor(3...</td>\n",
       "    </tr>\n",
       "    <tr>\n",
       "      <th>111</th>\n",
       "      <td>[[tensor(0.), tensor(0.), tensor(43.), tensor(...</td>\n",
       "    </tr>\n",
       "    <tr>\n",
       "      <th>112</th>\n",
       "      <td>[[tensor(0.), tensor(0.), tensor(63.), tensor(...</td>\n",
       "    </tr>\n",
       "    <tr>\n",
       "      <th>113</th>\n",
       "      <td>[[tensor(0.), tensor(0.), tensor(21.), tensor(...</td>\n",
       "    </tr>\n",
       "  </tbody>\n",
       "</table>\n",
       "<p>114 rows × 1 columns</p>\n",
       "</div>"
      ],
      "text/plain": [
       "                                                     0\n",
       "0    [[tensor(0.), tensor(24.), tensor(7.), tensor(...\n",
       "1    [[tensor(0.), tensor(8.), tensor(13.), tensor(...\n",
       "2    [[tensor(0.), tensor(23.), tensor(31.), tensor...\n",
       "3    [[tensor(0.), tensor(9.), tensor(46.), tensor(...\n",
       "4    [[tensor(0.), tensor(0.), tensor(15.), tensor(...\n",
       "..                                                 ...\n",
       "109  [[tensor(38.), tensor(0.), tensor(45.), tensor...\n",
       "110  [[tensor(0.), tensor(0.), tensor(1.), tensor(3...\n",
       "111  [[tensor(0.), tensor(0.), tensor(43.), tensor(...\n",
       "112  [[tensor(0.), tensor(0.), tensor(63.), tensor(...\n",
       "113  [[tensor(0.), tensor(0.), tensor(21.), tensor(...\n",
       "\n",
       "[114 rows x 1 columns]"
      ]
     },
     "execution_count": 44,
     "metadata": {},
     "output_type": "execute_result"
    }
   ],
   "source": [
    "bboxes_arr = np.asarray(bboxes, dtype=\"object\")\n",
    "\n",
    "pd.DataFrame(bboxes_arr)"
   ]
  },
  {
   "cell_type": "code",
   "execution_count": null,
   "metadata": {},
   "outputs": [],
   "source": []
  },
  {
   "cell_type": "code",
   "execution_count": null,
   "metadata": {},
   "outputs": [],
   "source": []
  },
  {
   "cell_type": "code",
   "execution_count": null,
   "metadata": {},
   "outputs": [],
   "source": []
  },
  {
   "cell_type": "code",
   "execution_count": null,
   "metadata": {
    "execution": {
     "iopub.execute_input": "2023-03-27T07:40:14.002783Z",
     "iopub.status.busy": "2023-03-27T07:40:14.002481Z",
     "iopub.status.idle": "2023-03-27T07:40:15.301352Z",
     "shell.execute_reply": "2023-03-27T07:40:15.300359Z",
     "shell.execute_reply.started": "2023-03-27T07:40:14.002755Z"
    }
   },
   "outputs": [],
   "source": []
  },
  {
   "cell_type": "code",
   "execution_count": null,
   "metadata": {
    "execution": {
     "iopub.execute_input": "2023-03-27T07:40:15.303710Z",
     "iopub.status.busy": "2023-03-27T07:40:15.303310Z",
     "iopub.status.idle": "2023-03-27T07:40:15.308442Z",
     "shell.execute_reply": "2023-03-27T07:40:15.307414Z",
     "shell.execute_reply.started": "2023-03-27T07:40:15.303662Z"
    }
   },
   "outputs": [],
   "source": []
  },
  {
   "cell_type": "code",
   "execution_count": null,
   "metadata": {
    "execution": {
     "iopub.execute_input": "2023-03-27T07:40:15.310459Z",
     "iopub.status.busy": "2023-03-27T07:40:15.309874Z",
     "iopub.status.idle": "2023-03-27T07:40:15.319832Z",
     "shell.execute_reply": "2023-03-27T07:40:15.318945Z",
     "shell.execute_reply.started": "2023-03-27T07:40:15.310423Z"
    }
   },
   "outputs": [],
   "source": []
  },
  {
   "cell_type": "code",
   "execution_count": null,
   "metadata": {
    "execution": {
     "iopub.execute_input": "2023-03-27T07:40:15.323222Z",
     "iopub.status.busy": "2023-03-27T07:40:15.322614Z",
     "iopub.status.idle": "2023-03-27T07:40:15.334817Z",
     "shell.execute_reply": "2023-03-27T07:40:15.333969Z",
     "shell.execute_reply.started": "2023-03-27T07:40:15.323187Z"
    }
   },
   "outputs": [],
   "source": []
  },
  {
   "cell_type": "code",
   "execution_count": null,
   "metadata": {
    "execution": {
     "iopub.execute_input": "2023-03-27T07:46:27.157813Z",
     "iopub.status.busy": "2023-03-27T07:46:27.157375Z",
     "iopub.status.idle": "2023-03-27T07:46:27.164342Z",
     "shell.execute_reply": "2023-03-27T07:46:27.163373Z",
     "shell.execute_reply.started": "2023-03-27T07:46:27.157776Z"
    }
   },
   "outputs": [],
   "source": []
  },
  {
   "cell_type": "code",
   "execution_count": null,
   "metadata": {
    "execution": {
     "iopub.execute_input": "2023-03-27T07:46:29.813497Z",
     "iopub.status.busy": "2023-03-27T07:46:29.813140Z",
     "iopub.status.idle": "2023-03-27T07:46:29.820564Z",
     "shell.execute_reply": "2023-03-27T07:46:29.819568Z",
     "shell.execute_reply.started": "2023-03-27T07:46:29.813467Z"
    }
   },
   "outputs": [],
   "source": []
  },
  {
   "cell_type": "code",
   "execution_count": null,
   "metadata": {
    "execution": {
     "iopub.execute_input": "2023-03-27T07:46:29.960000Z",
     "iopub.status.busy": "2023-03-27T07:46:29.959690Z",
     "iopub.status.idle": "2023-03-27T07:46:29.974260Z",
     "shell.execute_reply": "2023-03-27T07:46:29.973392Z",
     "shell.execute_reply.started": "2023-03-27T07:46:29.959968Z"
    },
    "jupyter": {
     "outputs_hidden": true
    }
   },
   "outputs": [],
   "source": []
  },
  {
   "cell_type": "code",
   "execution_count": null,
   "metadata": {
    "execution": {
     "iopub.execute_input": "2023-03-27T07:46:30.668035Z",
     "iopub.status.busy": "2023-03-27T07:46:30.667701Z",
     "iopub.status.idle": "2023-03-27T07:46:30.673224Z",
     "shell.execute_reply": "2023-03-27T07:46:30.672206Z",
     "shell.execute_reply.started": "2023-03-27T07:46:30.668006Z"
    }
   },
   "outputs": [],
   "source": []
  },
  {
   "cell_type": "code",
   "execution_count": null,
   "metadata": {
    "execution": {
     "iopub.execute_input": "2023-03-27T07:40:22.015025Z",
     "iopub.status.busy": "2023-03-27T07:40:22.012780Z",
     "iopub.status.idle": "2023-03-27T07:40:22.021288Z",
     "shell.execute_reply": "2023-03-27T07:40:22.020491Z",
     "shell.execute_reply.started": "2023-03-27T07:40:22.014972Z"
    }
   },
   "outputs": [],
   "source": []
  },
  {
   "cell_type": "code",
   "execution_count": null,
   "metadata": {
    "execution": {
     "iopub.execute_input": "2023-03-27T07:50:21.522384Z",
     "iopub.status.busy": "2023-03-27T07:50:21.522023Z"
    }
   },
   "outputs": [],
   "source": []
  },
  {
   "cell_type": "code",
   "execution_count": null,
   "metadata": {
    "execution": {
     "iopub.execute_input": "2023-03-26T05:32:00.264708Z",
     "iopub.status.busy": "2023-03-26T05:32:00.264167Z",
     "iopub.status.idle": "2023-03-26T05:32:00.483405Z",
     "shell.execute_reply": "2023-03-26T05:32:00.482438Z",
     "shell.execute_reply.started": "2023-03-26T05:32:00.264657Z"
    }
   },
   "outputs": [],
   "source": []
  },
  {
   "cell_type": "code",
   "execution_count": null,
   "metadata": {
    "execution": {
     "iopub.execute_input": "2023-03-26T05:32:03.705505Z",
     "iopub.status.busy": "2023-03-26T05:32:03.705112Z",
     "iopub.status.idle": "2023-03-26T05:32:03.882450Z",
     "shell.execute_reply": "2023-03-26T05:32:03.881409Z",
     "shell.execute_reply.started": "2023-03-26T05:32:03.705454Z"
    }
   },
   "outputs": [],
   "source": []
  },
  {
   "cell_type": "code",
   "execution_count": null,
   "metadata": {
    "execution": {
     "iopub.execute_input": "2023-03-26T05:32:13.441050Z",
     "iopub.status.busy": "2023-03-26T05:32:13.440353Z",
     "iopub.status.idle": "2023-03-26T05:32:16.446381Z",
     "shell.execute_reply": "2023-03-26T05:32:16.444816Z",
     "shell.execute_reply.started": "2023-03-26T05:32:13.440990Z"
    }
   },
   "outputs": [],
   "source": []
  },
  {
   "cell_type": "code",
   "execution_count": null,
   "metadata": {
    "execution": {
     "iopub.execute_input": "2023-03-26T05:32:49.871701Z",
     "iopub.status.busy": "2023-03-26T05:32:49.871109Z",
     "iopub.status.idle": "2023-03-26T05:32:50.001893Z",
     "shell.execute_reply": "2023-03-26T05:32:50.000858Z",
     "shell.execute_reply.started": "2023-03-26T05:32:49.871656Z"
    }
   },
   "outputs": [],
   "source": []
  },
  {
   "cell_type": "code",
   "execution_count": null,
   "metadata": {},
   "outputs": [],
   "source": []
  },
  {
   "cell_type": "code",
   "execution_count": null,
   "metadata": {},
   "outputs": [],
   "source": []
  },
  {
   "cell_type": "code",
   "execution_count": null,
   "metadata": {
    "execution": {
     "iopub.execute_input": "2023-03-26T05:33:29.924066Z",
     "iopub.status.busy": "2023-03-26T05:33:29.923439Z",
     "iopub.status.idle": "2023-03-26T05:33:30.163566Z",
     "shell.execute_reply": "2023-03-26T05:33:30.162547Z",
     "shell.execute_reply.started": "2023-03-26T05:33:29.924027Z"
    }
   },
   "outputs": [],
   "source": []
  },
  {
   "cell_type": "code",
   "execution_count": null,
   "metadata": {
    "execution": {
     "iopub.execute_input": "2023-03-26T05:33:17.896318Z",
     "iopub.status.busy": "2023-03-26T05:33:17.895952Z",
     "iopub.status.idle": "2023-03-26T05:33:17.902652Z",
     "shell.execute_reply": "2023-03-26T05:33:17.901724Z",
     "shell.execute_reply.started": "2023-03-26T05:33:17.896285Z"
    }
   },
   "outputs": [],
   "source": []
  },
  {
   "cell_type": "code",
   "execution_count": null,
   "metadata": {},
   "outputs": [],
   "source": []
  },
  {
   "cell_type": "code",
   "execution_count": null,
   "metadata": {},
   "outputs": [],
   "source": []
  },
  {
   "cell_type": "code",
   "execution_count": null,
   "metadata": {},
   "outputs": [],
   "source": []
  },
  {
   "cell_type": "code",
   "execution_count": null,
   "metadata": {},
   "outputs": [],
   "source": []
  },
  {
   "cell_type": "code",
   "execution_count": null,
   "metadata": {},
   "outputs": [],
   "source": []
  }
 ],
 "metadata": {
  "kernelspec": {
   "display_name": "Python 3 (ipykernel)",
   "language": "python",
   "name": "python3"
  },
  "language_info": {
   "codemirror_mode": {
    "name": "ipython",
    "version": 3
   },
   "file_extension": ".py",
   "mimetype": "text/x-python",
   "name": "python",
   "nbconvert_exporter": "python",
   "pygments_lexer": "ipython3",
   "version": "3.10.13"
  }
 },
 "nbformat": 4,
 "nbformat_minor": 4
}
